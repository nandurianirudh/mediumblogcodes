{
 "cells": [
  {
   "cell_type": "markdown",
   "metadata": {},
   "source": [
    "# Basics of python for data science "
   ]
  },
  {
   "cell_type": "markdown",
   "metadata": {},
   "source": [
    "## Data Types"
   ]
  },
  {
   "cell_type": "markdown",
   "metadata": {},
   "source": [
    "Python, like many programming languages has data types. If you don't know what a data type is, think of it as different entities having different behaviors. For example they can be integers, real numbers, text, etc. In python we have 4 types of data which are given as follows:\n",
    "- Integer\n",
    "- Float\n",
    "- String\n",
    "- Boolean"
   ]
  },
  {
   "cell_type": "code",
   "execution_count": 1,
   "metadata": {
    "ExecuteTime": {
     "end_time": "2020-04-25T13:50:14.970107Z",
     "start_time": "2020-04-25T13:50:14.940029Z"
    }
   },
   "outputs": [
    {
     "data": {
      "text/plain": [
       "int"
      ]
     },
     "execution_count": 1,
     "metadata": {},
     "output_type": "execute_result"
    }
   ],
   "source": [
    "# Examples for integer 1, 2, 157\n",
    "type(2)"
   ]
  },
  {
   "cell_type": "code",
   "execution_count": 2,
   "metadata": {
    "ExecuteTime": {
     "end_time": "2020-04-25T13:50:15.087272Z",
     "start_time": "2020-04-25T13:50:14.976903Z"
    }
   },
   "outputs": [
    {
     "data": {
      "text/plain": [
       "float"
      ]
     },
     "execution_count": 2,
     "metadata": {},
     "output_type": "execute_result"
    }
   ],
   "source": [
    "# Examples for float 3.0, 5.71\n",
    "type(4.5)"
   ]
  },
  {
   "cell_type": "code",
   "execution_count": 3,
   "metadata": {
    "ExecuteTime": {
     "end_time": "2020-04-25T13:50:15.207326Z",
     "start_time": "2020-04-25T13:50:15.091282Z"
    }
   },
   "outputs": [
    {
     "data": {
      "text/plain": [
       "str"
      ]
     },
     "execution_count": 3,
     "metadata": {},
     "output_type": "execute_result"
    }
   ],
   "source": [
    "# Examples for string \"Hi\", 'this', \"is a'a string\",\"4\",'53.0'\n",
    "type(\"hello\")"
   ]
  },
  {
   "cell_type": "code",
   "execution_count": 4,
   "metadata": {
    "ExecuteTime": {
     "end_time": "2020-04-25T13:50:15.327357Z",
     "start_time": "2020-04-25T13:50:15.214171Z"
    }
   },
   "outputs": [
    {
     "data": {
      "text/plain": [
       "bool"
      ]
     },
     "execution_count": 4,
     "metadata": {},
     "output_type": "execute_result"
    }
   ],
   "source": [
    "# Examples for boolean True, False\n",
    "type(True)"
   ]
  },
  {
   "cell_type": "markdown",
   "metadata": {},
   "source": [
    "## Type Casting "
   ]
  },
  {
   "cell_type": "markdown",
   "metadata": {},
   "source": [
    "Type casting is a process wherein users can change the type of data. This might be very useful in certain scenarios."
   ]
  },
  {
   "cell_type": "code",
   "execution_count": 5,
   "metadata": {
    "ExecuteTime": {
     "end_time": "2020-04-25T13:50:15.430651Z",
     "start_time": "2020-04-25T13:50:15.334700Z"
    }
   },
   "outputs": [
    {
     "data": {
      "text/plain": [
       "2.0"
      ]
     },
     "execution_count": 5,
     "metadata": {},
     "output_type": "execute_result"
    }
   ],
   "source": [
    "# If we want to convert integer to float, the sybtax to use is as following\n",
    "float(2)"
   ]
  },
  {
   "cell_type": "code",
   "execution_count": 6,
   "metadata": {
    "ExecuteTime": {
     "end_time": "2020-04-25T13:50:15.552718Z",
     "start_time": "2020-04-25T13:50:15.435919Z"
    }
   },
   "outputs": [
    {
     "data": {
      "text/plain": [
       "5"
      ]
     },
     "execution_count": 6,
     "metadata": {},
     "output_type": "execute_result"
    }
   ],
   "source": [
    "# If we want to convert float to integer, the syntax to use is as following. Please note that while converting decinal values are lost in the process.\n",
    "int(5.86)"
   ]
  },
  {
   "cell_type": "code",
   "execution_count": 7,
   "metadata": {
    "ExecuteTime": {
     "end_time": "2020-04-25T13:50:15.675709Z",
     "start_time": "2020-04-25T13:50:15.557819Z"
    }
   },
   "outputs": [
    {
     "name": "stdout",
     "output_type": "stream",
     "text": [
      "8\n",
      "5.86\n"
     ]
    }
   ],
   "source": [
    "# If we want to convert string to integer/float, the syntax to use is as following. Please note that this is only possible for numbers in string format.\n",
    "print(int('8'))\n",
    "print(float('5.86'))"
   ]
  },
  {
   "cell_type": "code",
   "execution_count": 8,
   "metadata": {
    "ExecuteTime": {
     "end_time": "2020-04-25T13:50:16.062456Z",
     "start_time": "2020-04-25T13:50:15.680543Z"
    }
   },
   "outputs": [
    {
     "ename": "ValueError",
     "evalue": "invalid literal for int() with base 10: '8.5'",
     "output_type": "error",
     "traceback": [
      "\u001b[1;31m---------------------------------------------------------------------------\u001b[0m",
      "\u001b[1;31mValueError\u001b[0m                                Traceback (most recent call last)",
      "\u001b[1;32m<ipython-input-8-8992b89baf65>\u001b[0m in \u001b[0;36m<module>\u001b[1;34m()\u001b[0m\n\u001b[0;32m      1\u001b[0m \u001b[1;31m# Please do note that trying to convert a float in string to integer will throw you an error as following\u001b[0m\u001b[1;33m\u001b[0m\u001b[1;33m\u001b[0m\u001b[0m\n\u001b[1;32m----> 2\u001b[1;33m \u001b[0mint\u001b[0m\u001b[1;33m(\u001b[0m\u001b[1;34m'8.5'\u001b[0m\u001b[1;33m)\u001b[0m\u001b[1;33m\u001b[0m\u001b[0m\n\u001b[0m",
      "\u001b[1;31mValueError\u001b[0m: invalid literal for int() with base 10: '8.5'"
     ]
    }
   ],
   "source": [
    "# Please do note that trying to convert a float in string to integer will throw you an error as following\n",
    "int('8.5')"
   ]
  },
  {
   "cell_type": "code",
   "execution_count": 9,
   "metadata": {
    "ExecuteTime": {
     "end_time": "2020-04-25T13:51:07.618060Z",
     "start_time": "2020-04-25T13:51:07.602153Z"
    }
   },
   "outputs": [
    {
     "ename": "ValueError",
     "evalue": "invalid literal for int() with base 10: 'hi'",
     "output_type": "error",
     "traceback": [
      "\u001b[1;31m---------------------------------------------------------------------------\u001b[0m",
      "\u001b[1;31mValueError\u001b[0m                                Traceback (most recent call last)",
      "\u001b[1;32m<ipython-input-9-bf5724bef91e>\u001b[0m in \u001b[0;36m<module>\u001b[1;34m()\u001b[0m\n\u001b[0;32m      1\u001b[0m \u001b[1;31m# Please do note that trying to convert a non-numeric in string to integer will throw you an error as following\u001b[0m\u001b[1;33m\u001b[0m\u001b[1;33m\u001b[0m\u001b[0m\n\u001b[1;32m----> 2\u001b[1;33m \u001b[0mint\u001b[0m\u001b[1;33m(\u001b[0m\u001b[1;34m'hi'\u001b[0m\u001b[1;33m)\u001b[0m\u001b[1;33m\u001b[0m\u001b[0m\n\u001b[0m",
      "\u001b[1;31mValueError\u001b[0m: invalid literal for int() with base 10: 'hi'"
     ]
    }
   ],
   "source": [
    "# Please do note that trying to convert a non-numeric in string to integer will throw you an error as following\n",
    "int('hi')"
   ]
  },
  {
   "cell_type": "code",
   "execution_count": 10,
   "metadata": {
    "ExecuteTime": {
     "end_time": "2020-04-25T13:51:07.824591Z",
     "start_time": "2020-04-25T13:51:07.808992Z"
    }
   },
   "outputs": [
    {
     "ename": "ValueError",
     "evalue": "could not convert string to float: 'hi'",
     "output_type": "error",
     "traceback": [
      "\u001b[1;31m---------------------------------------------------------------------------\u001b[0m",
      "\u001b[1;31mValueError\u001b[0m                                Traceback (most recent call last)",
      "\u001b[1;32m<ipython-input-10-4fecf14ea205>\u001b[0m in \u001b[0;36m<module>\u001b[1;34m()\u001b[0m\n\u001b[0;32m      1\u001b[0m \u001b[1;31m# Please do note that trying to convert a non-numeric in string to float will throw you an error as following\u001b[0m\u001b[1;33m\u001b[0m\u001b[1;33m\u001b[0m\u001b[0m\n\u001b[1;32m----> 2\u001b[1;33m \u001b[0mfloat\u001b[0m\u001b[1;33m(\u001b[0m\u001b[1;34m'hi'\u001b[0m\u001b[1;33m)\u001b[0m\u001b[1;33m\u001b[0m\u001b[0m\n\u001b[0m",
      "\u001b[1;31mValueError\u001b[0m: could not convert string to float: 'hi'"
     ]
    }
   ],
   "source": [
    "# Please do note that trying to convert a non-numeric in string to float will throw you an error as following\n",
    "float('hi')"
   ]
  },
  {
   "cell_type": "code",
   "execution_count": 11,
   "metadata": {
    "ExecuteTime": {
     "end_time": "2020-04-25T13:51:08.002019Z",
     "start_time": "2020-04-25T13:51:07.989486Z"
    }
   },
   "outputs": [
    {
     "data": {
      "text/plain": [
       "'5.86'"
      ]
     },
     "execution_count": 11,
     "metadata": {},
     "output_type": "execute_result"
    }
   ],
   "source": [
    "# If we want to convert float to string, the syntax to use is as following\n",
    "str(5.86)"
   ]
  },
  {
   "cell_type": "code",
   "execution_count": 12,
   "metadata": {
    "ExecuteTime": {
     "end_time": "2020-04-25T13:51:08.128620Z",
     "start_time": "2020-04-25T13:51:08.107573Z"
    }
   },
   "outputs": [
    {
     "data": {
      "text/plain": [
       "'23'"
      ]
     },
     "execution_count": 12,
     "metadata": {},
     "output_type": "execute_result"
    }
   ],
   "source": [
    "# If we want to convert integer to string, the syntax to use is as following\n",
    "str(23)"
   ]
  },
  {
   "cell_type": "code",
   "execution_count": 13,
   "metadata": {
    "ExecuteTime": {
     "end_time": "2020-04-25T13:51:08.275419Z",
     "start_time": "2020-04-25T13:51:08.265521Z"
    }
   },
   "outputs": [
    {
     "name": "stdout",
     "output_type": "stream",
     "text": [
      "1\n",
      "0\n",
      "1.0\n",
      "0.0\n"
     ]
    }
   ],
   "source": [
    "# If we want to convert boolean to integer or float, the syntax to use is as following\n",
    "print(int(True))\n",
    "print(int(False))\n",
    "print(float(True))\n",
    "print(float(False))"
   ]
  },
  {
   "cell_type": "code",
   "execution_count": 14,
   "metadata": {
    "ExecuteTime": {
     "end_time": "2020-04-25T13:51:08.476454Z",
     "start_time": "2020-04-25T13:51:08.466629Z"
    }
   },
   "outputs": [
    {
     "name": "stdout",
     "output_type": "stream",
     "text": [
      "True\n",
      "True\n",
      "False\n",
      "False\n"
     ]
    }
   ],
   "source": [
    "# If we want to convert integer or float to boolean, the syntax to use is as following\n",
    "print(bool(1))\n",
    "print(bool(1.0))\n",
    "print(bool(0))\n",
    "print(bool(0.0))"
   ]
  },
  {
   "cell_type": "markdown",
   "metadata": {},
   "source": [
    "## Basic Expressions "
   ]
  },
  {
   "cell_type": "markdown",
   "metadata": {},
   "source": [
    "Now that you have an idea of what the data types are, the next step is to understand what are some of the basic operations you can do with them. I bet that most of us already know some of the basic computations we can do with integers and float as they are similar to school level mathematics. Some standard mathematical operations we can do in python are addition (+), subtraction (-), multiplication (*), division (/), and integer division (//)."
   ]
  },
  {
   "cell_type": "code",
   "execution_count": 15,
   "metadata": {
    "ExecuteTime": {
     "end_time": "2020-04-25T13:51:09.564520Z",
     "start_time": "2020-04-25T13:51:09.552673Z"
    }
   },
   "outputs": [
    {
     "data": {
      "text/plain": [
       "3"
      ]
     },
     "execution_count": 15,
     "metadata": {},
     "output_type": "execute_result"
    }
   ],
   "source": [
    "#Simple addition\n",
    "1+2"
   ]
  },
  {
   "cell_type": "code",
   "execution_count": 16,
   "metadata": {
    "ExecuteTime": {
     "end_time": "2020-04-25T13:51:09.806467Z",
     "start_time": "2020-04-25T13:51:09.798423Z"
    }
   },
   "outputs": [
    {
     "data": {
      "text/plain": [
       "-1"
      ]
     },
     "execution_count": 16,
     "metadata": {},
     "output_type": "execute_result"
    }
   ],
   "source": [
    "#Simple subtraction\n",
    "5-6"
   ]
  },
  {
   "cell_type": "code",
   "execution_count": 17,
   "metadata": {
    "ExecuteTime": {
     "end_time": "2020-04-25T13:51:09.924825Z",
     "start_time": "2020-04-25T13:51:09.916490Z"
    }
   },
   "outputs": [
    {
     "data": {
      "text/plain": [
       "30"
      ]
     },
     "execution_count": 17,
     "metadata": {},
     "output_type": "execute_result"
    }
   ],
   "source": [
    "#Simple multiplication\n",
    "5*6"
   ]
  },
  {
   "cell_type": "code",
   "execution_count": 18,
   "metadata": {
    "ExecuteTime": {
     "end_time": "2020-04-25T13:51:10.191413Z",
     "start_time": "2020-04-25T13:51:10.183140Z"
    }
   },
   "outputs": [
    {
     "data": {
      "text/plain": [
       "7.8"
      ]
     },
     "execution_count": 18,
     "metadata": {},
     "output_type": "execute_result"
    }
   ],
   "source": [
    "#Simple division\n",
    "39/5"
   ]
  },
  {
   "cell_type": "code",
   "execution_count": 19,
   "metadata": {
    "ExecuteTime": {
     "end_time": "2020-04-25T13:51:10.492198Z",
     "start_time": "2020-04-25T13:51:10.484185Z"
    }
   },
   "outputs": [
    {
     "data": {
      "text/plain": [
       "7"
      ]
     },
     "execution_count": 19,
     "metadata": {},
     "output_type": "execute_result"
    }
   ],
   "source": [
    "#Simple division which returns only integer value from division\n",
    "39//5"
   ]
  },
  {
   "cell_type": "code",
   "execution_count": 20,
   "metadata": {
    "ExecuteTime": {
     "end_time": "2020-04-25T13:51:10.720731Z",
     "start_time": "2020-04-25T13:51:10.708908Z"
    }
   },
   "outputs": [
    {
     "data": {
      "text/plain": [
       "13"
      ]
     },
     "execution_count": 20,
     "metadata": {},
     "output_type": "execute_result"
    }
   ],
   "source": [
    "#Python follows the standard mathematical rules as in in expression \"4*2+5\", python first computes 4*2 and then adds 5 to it\n",
    "4*2+5"
   ]
  },
  {
   "cell_type": "code",
   "execution_count": 21,
   "metadata": {
    "ExecuteTime": {
     "end_time": "2020-04-25T13:51:10.956789Z",
     "start_time": "2020-04-25T13:51:10.949831Z"
    }
   },
   "outputs": [
    {
     "data": {
      "text/plain": [
       "28"
      ]
     },
     "execution_count": 21,
     "metadata": {},
     "output_type": "execute_result"
    }
   ],
   "source": [
    "#If we can the addition to happen first we can specify that by giving parenthesis like\n",
    "4*(2+5)"
   ]
  },
  {
   "cell_type": "markdown",
   "metadata": {},
   "source": [
    "## Variables "
   ]
  },
  {
   "cell_type": "markdown",
   "metadata": {},
   "source": [
    "To make it easier to understand, assume that variables are containers in you kitchen, ones that you can label as you wish. Now these containers can hold whatever you want them to. They can hold drinks, food, semi solids, etc. When you want to use things inside any container you would look at their labels and try to use them in cooking or munching. In a similar way variables are containers created by the computer to temporarily hold values or data structures and can be accessed by the name you assign to them. The variables themselves can be used to do some computations as needed."
   ]
  },
  {
   "cell_type": "code",
   "execution_count": 22,
   "metadata": {
    "ExecuteTime": {
     "end_time": "2020-04-25T13:51:11.560585Z",
     "start_time": "2020-04-25T13:51:11.547690Z"
    }
   },
   "outputs": [
    {
     "data": {
      "text/plain": [
       "1"
      ]
     },
     "execution_count": 22,
     "metadata": {},
     "output_type": "execute_result"
    }
   ],
   "source": [
    "#assigning integer 1 to variable called myfirstnumber\n",
    "myfirstnumber=1\n",
    "myfirstnumber"
   ]
  },
  {
   "cell_type": "code",
   "execution_count": 23,
   "metadata": {
    "ExecuteTime": {
     "end_time": "2020-04-25T13:51:11.733400Z",
     "start_time": "2020-04-25T13:51:11.725499Z"
    }
   },
   "outputs": [
    {
     "data": {
      "text/plain": [
       "10.0"
      ]
     },
     "execution_count": 23,
     "metadata": {},
     "output_type": "execute_result"
    }
   ],
   "source": [
    "#Re-assigning variable called myfirstnumber to float 10.0\n",
    "myfirstnumber=10.0 \n",
    "myfirstnumber"
   ]
  },
  {
   "cell_type": "code",
   "execution_count": 24,
   "metadata": {
    "ExecuteTime": {
     "end_time": "2020-04-25T13:51:11.905453Z",
     "start_time": "2020-04-25T13:51:11.897744Z"
    }
   },
   "outputs": [
    {
     "data": {
      "text/plain": [
       "11.0"
      ]
     },
     "execution_count": 24,
     "metadata": {},
     "output_type": "execute_result"
    }
   ],
   "source": [
    "#Inceases the value of myfirstnumber by 1 unit and assigns it back to itself\n",
    "myfirstnumber+=1 \n",
    "myfirstnumber"
   ]
  },
  {
   "cell_type": "code",
   "execution_count": 25,
   "metadata": {
    "ExecuteTime": {
     "end_time": "2020-04-25T13:51:12.072556Z",
     "start_time": "2020-04-25T13:51:12.065757Z"
    }
   },
   "outputs": [
    {
     "data": {
      "text/plain": [
       "35.8"
      ]
     },
     "execution_count": 25,
     "metadata": {},
     "output_type": "execute_result"
    }
   ],
   "source": [
    "#In case expression is equated to variable, the output of expression is assigned to the variable\n",
    "myfirstnumber=1+6*5.8 \n",
    "myfirstnumber"
   ]
  },
  {
   "cell_type": "code",
   "execution_count": 26,
   "metadata": {
    "ExecuteTime": {
     "end_time": "2020-04-25T13:51:12.249043Z",
     "start_time": "2020-04-25T13:51:12.240511Z"
    }
   },
   "outputs": [
    {
     "data": {
      "text/plain": [
       "716.0"
      ]
     },
     "execution_count": 26,
     "metadata": {},
     "output_type": "execute_result"
    }
   ],
   "source": [
    "#Using one variable to access its value and doing some operation on it before assigning it to another variable\n",
    "mysecondnumber=myfirstnumber*20\n",
    "mysecondnumber"
   ]
  },
  {
   "cell_type": "markdown",
   "metadata": {},
   "source": [
    "## String Operations "
   ]
  },
  {
   "cell_type": "markdown",
   "metadata": {},
   "source": [
    "String is a set of characters which are enclosed in quotes. It does not matter what are inside those quotes. Unlike other data types, we can access information in a single string using something python users call indexing. Please do note that in python index starts at 0, that means index 0 refers to first element, index 1 refers to second element and so on and so forth"
   ]
  },
  {
   "cell_type": "code",
   "execution_count": 27,
   "metadata": {
    "ExecuteTime": {
     "end_time": "2020-04-25T13:51:12.802829Z",
     "start_time": "2020-04-25T13:51:12.786087Z"
    }
   },
   "outputs": [
    {
     "data": {
      "text/plain": [
       "'medium'"
      ]
     },
     "execution_count": 27,
     "metadata": {},
     "output_type": "execute_result"
    }
   ],
   "source": [
    "v1='medium'\n",
    "v1"
   ]
  },
  {
   "cell_type": "code",
   "execution_count": 28,
   "metadata": {
    "ExecuteTime": {
     "end_time": "2020-04-25T13:51:12.972569Z",
     "start_time": "2020-04-25T13:51:12.964302Z"
    }
   },
   "outputs": [
    {
     "data": {
      "text/plain": [
       "'m'"
      ]
     },
     "execution_count": 28,
     "metadata": {},
     "output_type": "execute_result"
    }
   ],
   "source": [
    "#Retrieving 1st letter from the string variable v1\n",
    "v1[0]"
   ]
  },
  {
   "cell_type": "code",
   "execution_count": 29,
   "metadata": {
    "ExecuteTime": {
     "end_time": "2020-04-25T13:51:13.144048Z",
     "start_time": "2020-04-25T13:51:13.135840Z"
    }
   },
   "outputs": [
    {
     "data": {
      "text/plain": [
       "'med'"
      ]
     },
     "execution_count": 29,
     "metadata": {},
     "output_type": "execute_result"
    }
   ],
   "source": [
    "#Retrieving 1st 3 letters from the string variable v1\n",
    "v1[0:3] #0 tells where the first letter is and 3 tells code that information should be fetched till 3 (excludes 3)"
   ]
  },
  {
   "cell_type": "code",
   "execution_count": 30,
   "metadata": {
    "ExecuteTime": {
     "end_time": "2020-04-25T13:51:13.358339Z",
     "start_time": "2020-04-25T13:51:13.349675Z"
    }
   },
   "outputs": [
    {
     "data": {
      "text/plain": [
       "'mdu'"
      ]
     },
     "execution_count": 30,
     "metadata": {},
     "output_type": "execute_result"
    }
   ],
   "source": [
    "#Retrieve letters skipping 1 each in between\n",
    "v1[::2]"
   ]
  },
  {
   "cell_type": "code",
   "execution_count": 31,
   "metadata": {
    "ExecuteTime": {
     "end_time": "2020-04-25T13:51:13.552741Z",
     "start_time": "2020-04-25T13:51:13.540183Z"
    }
   },
   "outputs": [
    {
     "data": {
      "text/plain": [
       "'hwleuke'"
      ]
     },
     "execution_count": 31,
     "metadata": {},
     "output_type": "execute_result"
    }
   ],
   "source": [
    "#Retrieve letters starting from 2nd letter and skipping 2 letter in between\n",
    "v2='thiswouldbeaquickcheck'\n",
    "v2[1::3]"
   ]
  },
  {
   "cell_type": "code",
   "execution_count": 32,
   "metadata": {
    "ExecuteTime": {
     "end_time": "2020-04-25T13:51:13.707762Z",
     "start_time": "2020-04-25T13:51:13.698693Z"
    }
   },
   "outputs": [
    {
     "name": "stdout",
     "output_type": "stream",
     "text": [
      "medium\n"
     ]
    },
    {
     "data": {
      "text/plain": [
       "6"
      ]
     },
     "execution_count": 32,
     "metadata": {},
     "output_type": "execute_result"
    }
   ],
   "source": [
    "#We can fetch the length of string using below syntax\n",
    "print(v1)\n",
    "len(v1)"
   ]
  },
  {
   "cell_type": "code",
   "execution_count": 33,
   "metadata": {
    "ExecuteTime": {
     "end_time": "2020-04-25T13:51:13.868023Z",
     "start_time": "2020-04-25T13:51:13.860695Z"
    }
   },
   "outputs": [
    {
     "name": "stdout",
     "output_type": "stream",
     "text": [
      "12\n",
      "1 a\n"
     ]
    }
   ],
   "source": [
    "#We can add or concatenate strings using + or , within print statement\n",
    "print('1'+'2') #Directly adds strings without any spaces\n",
    "print('1','a') #Adds two strings with a space in between"
   ]
  },
  {
   "cell_type": "code",
   "execution_count": 34,
   "metadata": {
    "ExecuteTime": {
     "end_time": "2020-04-25T13:51:14.480995Z",
     "start_time": "2020-04-25T13:51:14.472772Z"
    }
   },
   "outputs": [
    {
     "name": "stdout",
     "output_type": "stream",
     "text": [
      "hihi\n",
      "hihihihihihihi\n"
     ]
    }
   ],
   "source": [
    "#By multiplying the string with an integer, the string repeats itself with respect to the magnitude of the integer\n",
    "print(\"hi\"*2)\n",
    "print(\"hi\"*7)"
   ]
  },
  {
   "cell_type": "markdown",
   "metadata": {},
   "source": [
    "### Escape characters "
   ]
  },
  {
   "cell_type": "markdown",
   "metadata": {},
   "source": [
    "In python, few characters have fixed meaning. For example \" and ' are used for string, but are also used on punctuations in english. So what would happen if we want to use punctuations in a string, wouldn't it be great if we could tell python that it should consider a particular character with it's original intent? That is exactly what an escape character does. Let's see it's usage below."
   ]
  },
  {
   "cell_type": "code",
   "execution_count": 35,
   "metadata": {
    "ExecuteTime": {
     "end_time": "2020-04-25T13:51:15.039559Z",
     "start_time": "2020-04-25T13:51:15.031872Z"
    }
   },
   "outputs": [
    {
     "ename": "SyntaxError",
     "evalue": "invalid syntax (<ipython-input-35-08cfe2ec35ee>, line 2)",
     "output_type": "error",
     "traceback": [
      "\u001b[1;36m  File \u001b[1;32m\"<ipython-input-35-08cfe2ec35ee>\"\u001b[1;36m, line \u001b[1;32m2\u001b[0m\n\u001b[1;33m    'Hi, I'm new one here. Nice to meet you'\u001b[0m\n\u001b[1;37m           ^\u001b[0m\n\u001b[1;31mSyntaxError\u001b[0m\u001b[1;31m:\u001b[0m invalid syntax\n"
     ]
    }
   ],
   "source": [
    "#This would throw an error as there is usage of ' as a punctuation which indicates string for python\n",
    "'Hi, I'm new one here. Nice to meet you'"
   ]
  },
  {
   "cell_type": "code",
   "execution_count": 36,
   "metadata": {
    "ExecuteTime": {
     "end_time": "2020-04-25T13:51:15.223911Z",
     "start_time": "2020-04-25T13:51:15.216318Z"
    }
   },
   "outputs": [
    {
     "name": "stdout",
     "output_type": "stream",
     "text": [
      "Hi, I'm new one here. Nice to meet you\n",
      "Hi, I'm new one here. Nice to meet you\n"
     ]
    }
   ],
   "source": [
    "# The above could be solved by two methods\n",
    "\n",
    "#Method 1 where the enclosing of string changes from ' to \"\n",
    "print(\"Hi, I'm new one here. Nice to meet you\")\n",
    "\n",
    "#Method 2 where we give escape character \\ in front of punctation '\n",
    "print('Hi, I\\'m new one here. Nice to meet you')"
   ]
  },
  {
   "cell_type": "code",
   "execution_count": 37,
   "metadata": {
    "ExecuteTime": {
     "end_time": "2020-04-25T13:51:15.421496Z",
     "start_time": "2020-04-25T13:51:15.408408Z"
    }
   },
   "outputs": [
    {
     "name": "stdout",
     "output_type": "stream",
     "text": [
      "Hi \n",
      " this will be new line \t this will be with extra space\n"
     ]
    }
   ],
   "source": [
    "#We can also use \\ character to go to new line, add tab and lot of other stuffs, look below for some examples\n",
    "print(\"Hi \\n this will be new line \\t this will be with extra space\") #\\n takes new line while \\t gives extra spaces"
   ]
  },
  {
   "cell_type": "markdown",
   "metadata": {},
   "source": [
    "### String Methods "
   ]
  },
  {
   "cell_type": "markdown",
   "metadata": {},
   "source": [
    "Methods are inherent properties of data type or structures created using code. This are called by the method name followed by opening and closing paranthesis. Let us explore some useful methods of string data type"
   ]
  },
  {
   "cell_type": "code",
   "execution_count": 38,
   "metadata": {
    "ExecuteTime": {
     "end_time": "2020-04-25T13:51:15.908202Z",
     "start_time": "2020-04-25T13:51:15.899858Z"
    }
   },
   "outputs": [
    {
     "data": {
      "text/plain": [
       "'Random string'"
      ]
     },
     "execution_count": 38,
     "metadata": {},
     "output_type": "execute_result"
    }
   ],
   "source": [
    "#Method capitalize capitalizes the first letter in the string\n",
    "\"random string\".capitalize()"
   ]
  },
  {
   "cell_type": "code",
   "execution_count": 39,
   "metadata": {
    "ExecuteTime": {
     "end_time": "2020-04-25T13:51:16.100032Z",
     "start_time": "2020-04-25T13:51:16.074623Z"
    }
   },
   "outputs": [
    {
     "data": {
      "text/plain": [
       "'Random String'"
      ]
     },
     "execution_count": 39,
     "metadata": {},
     "output_type": "execute_result"
    }
   ],
   "source": [
    "#Method title capitalizes the first letter of every word in the string\n",
    "\"random string\".title()"
   ]
  },
  {
   "cell_type": "code",
   "execution_count": 40,
   "metadata": {
    "ExecuteTime": {
     "end_time": "2020-04-25T13:51:16.274356Z",
     "start_time": "2020-04-25T13:51:16.266295Z"
    }
   },
   "outputs": [
    {
     "data": {
      "text/plain": [
       "2"
      ]
     },
     "execution_count": 40,
     "metadata": {},
     "output_type": "execute_result"
    }
   ],
   "source": [
    "#Method find fetches the position of the first occurance specified in the string\n",
    "\"random string\".find('n')"
   ]
  },
  {
   "cell_type": "code",
   "execution_count": 41,
   "metadata": {
    "ExecuteTime": {
     "end_time": "2020-04-25T13:51:16.480533Z",
     "start_time": "2020-04-25T13:51:16.468227Z"
    }
   },
   "outputs": [
    {
     "data": {
      "text/plain": [
       "True"
      ]
     },
     "execution_count": 41,
     "metadata": {},
     "output_type": "execute_result"
    }
   ],
   "source": [
    "#Method islower checks if the string has all of its elements in lower case and returns a boolean as output\n",
    "\"random string\".islower()"
   ]
  },
  {
   "cell_type": "code",
   "execution_count": 42,
   "metadata": {
    "ExecuteTime": {
     "end_time": "2020-04-25T13:51:16.673113Z",
     "start_time": "2020-04-25T13:51:16.660196Z"
    }
   },
   "outputs": [
    {
     "data": {
      "text/plain": [
       "False"
      ]
     },
     "execution_count": 42,
     "metadata": {},
     "output_type": "execute_result"
    }
   ],
   "source": [
    "#Method isupper checks if the string has all of its elements in upper case and returns a boolean as output\n",
    "\"random string\".isupper()"
   ]
  },
  {
   "cell_type": "code",
   "execution_count": 43,
   "metadata": {
    "ExecuteTime": {
     "end_time": "2020-04-25T13:51:16.834500Z",
     "start_time": "2020-04-25T13:51:16.822167Z"
    }
   },
   "outputs": [
    {
     "data": {
      "text/plain": [
       "'RANDOM STRING'"
      ]
     },
     "execution_count": 43,
     "metadata": {},
     "output_type": "execute_result"
    }
   ],
   "source": [
    "#Method upper converts the string to upper case\n",
    "\"random string\".upper()"
   ]
  },
  {
   "cell_type": "code",
   "execution_count": 44,
   "metadata": {
    "ExecuteTime": {
     "end_time": "2020-04-25T13:51:17.037228Z",
     "start_time": "2020-04-25T13:51:17.025276Z"
    }
   },
   "outputs": [
    {
     "data": {
      "text/plain": [
       "'Random stRing'"
      ]
     },
     "execution_count": 44,
     "metadata": {},
     "output_type": "execute_result"
    }
   ],
   "source": [
    "#Method replace replaces the value in string as needed\n",
    "\"random string\".replace('r','R')"
   ]
  },
  {
   "cell_type": "code",
   "execution_count": 45,
   "metadata": {
    "ExecuteTime": {
     "end_time": "2020-04-25T13:51:17.182158Z",
     "start_time": "2020-04-25T13:51:17.175404Z"
    }
   },
   "outputs": [
    {
     "data": {
      "text/plain": [
       "'random   string  '"
      ]
     },
     "execution_count": 45,
     "metadata": {},
     "output_type": "execute_result"
    }
   ],
   "source": [
    "#Method lstrip removes extra spaces in the left side of the string\n",
    "\"  random   string  \".lstrip()"
   ]
  },
  {
   "cell_type": "code",
   "execution_count": 46,
   "metadata": {
    "ExecuteTime": {
     "end_time": "2020-04-25T13:51:17.395202Z",
     "start_time": "2020-04-25T13:51:17.387319Z"
    }
   },
   "outputs": [
    {
     "data": {
      "text/plain": [
       "'  random   string'"
      ]
     },
     "execution_count": 46,
     "metadata": {},
     "output_type": "execute_result"
    }
   ],
   "source": [
    "#Method rstrip removes extra spaces in the right side of the string\n",
    "\"  random   string   \".rstrip()"
   ]
  },
  {
   "cell_type": "code",
   "execution_count": 47,
   "metadata": {
    "ExecuteTime": {
     "end_time": "2020-04-25T13:51:17.613090Z",
     "start_time": "2020-04-25T13:51:17.601361Z"
    }
   },
   "outputs": [
    {
     "data": {
      "text/plain": [
       "'random string'"
      ]
     },
     "execution_count": 47,
     "metadata": {},
     "output_type": "execute_result"
    }
   ],
   "source": [
    "#Method strip removes extra spaces in the string\n",
    "\"  random string\".lstrip()"
   ]
  },
  {
   "cell_type": "code",
   "execution_count": 48,
   "metadata": {
    "ExecuteTime": {
     "end_time": "2020-04-25T13:51:17.795921Z",
     "start_time": "2020-04-25T13:51:17.787940Z"
    }
   },
   "outputs": [
    {
     "name": "stdout",
     "output_type": "stream",
     "text": [
      "['random', 'string']\n",
      "['', 'andom st', 'ing']\n",
      "['ra', 'dom stri', 'g']\n"
     ]
    }
   ],
   "source": [
    "#Method split splits the existing string to multiple strings based on the value given to split, by default it splits where spaces exist. This returns list of substrings created due to split\n",
    "print(\"random string\".split())\n",
    "print(\"random string\".split('r'))\n",
    "print(\"random string\".split('n'))"
   ]
  },
  {
   "cell_type": "markdown",
   "metadata": {},
   "source": [
    "## Data Structures "
   ]
  },
  {
   "cell_type": "markdown",
   "metadata": {},
   "source": [
    "While drawing an analogy we used in data types section, we can say that data structures are similar to drawers/storage compartments in kitchen where we store our containers, and naturally they will have labels/names as well. However, each and every one of these data structures have their own characteristics. Lets discuss them in detail below:"
   ]
  },
  {
   "cell_type": "markdown",
   "metadata": {},
   "source": [
    "### Tuples"
   ]
  },
  {
   "cell_type": "markdown",
   "metadata": {},
   "source": [
    "Tuples are a collection of data which can be either a data type or structure itself, so as to say that they can hold all data types along with data structures like tuples themselves."
   ]
  },
  {
   "cell_type": "code",
   "execution_count": 49,
   "metadata": {
    "ExecuteTime": {
     "end_time": "2020-04-25T13:51:18.710900Z",
     "start_time": "2020-04-25T13:51:18.699831Z"
    }
   },
   "outputs": [
    {
     "name": "stdout",
     "output_type": "stream",
     "text": [
      "<class 'tuple'>\n",
      "<class 'tuple'>\n",
      "<class 'int'>\n",
      "<class 'tuple'>\n"
     ]
    }
   ],
   "source": [
    "#Declaring a tuple\n",
    "var=(1,2,3)\n",
    "print(type(var))\n",
    "\n",
    "var=tuple((1,2,3)) #Notice we are enclosing the information in two brackets instead of one. This is to ensure we do not get error. Try by removing one bracket and see what you will get.\n",
    "print(type(var))\n",
    "\n",
    "var=(2) #This will not be a tuple as it will be considered as an integer. Add comma after entry to make it a tuple\n",
    "print(type(var))\n",
    "\n",
    "var=(2,)\n",
    "print(type(var))"
   ]
  },
  {
   "cell_type": "code",
   "execution_count": 50,
   "metadata": {
    "ExecuteTime": {
     "end_time": "2020-04-25T13:51:18.894734Z",
     "start_time": "2020-04-25T13:51:18.881319Z"
    }
   },
   "outputs": [
    {
     "name": "stdout",
     "output_type": "stream",
     "text": [
      "(1, 2, 3)\n"
     ]
    },
    {
     "data": {
      "text/plain": [
       "tuple"
      ]
     },
     "execution_count": 50,
     "metadata": {},
     "output_type": "execute_result"
    }
   ],
   "source": [
    "# Tuples are typically enclosed in ()\n",
    "print((1,2,3))\n",
    "type((1,2,3))"
   ]
  },
  {
   "cell_type": "markdown",
   "metadata": {},
   "source": [
    "Similar to strings, tuples can also be sliced using indexing"
   ]
  },
  {
   "cell_type": "code",
   "execution_count": 51,
   "metadata": {
    "ExecuteTime": {
     "end_time": "2020-04-25T13:51:19.262727Z",
     "start_time": "2020-04-25T13:51:19.250763Z"
    }
   },
   "outputs": [
    {
     "name": "stdout",
     "output_type": "stream",
     "text": [
      "(1, 'hi', 3.0)\n",
      "<class 'tuple'>\n"
     ]
    }
   ],
   "source": [
    "v2=(1,'hi',3.0)\n",
    "print(v2)\n",
    "print(type(v2))"
   ]
  },
  {
   "cell_type": "code",
   "execution_count": 52,
   "metadata": {
    "ExecuteTime": {
     "end_time": "2020-04-25T13:51:19.465803Z",
     "start_time": "2020-04-25T13:51:19.454093Z"
    }
   },
   "outputs": [
    {
     "name": "stdout",
     "output_type": "stream",
     "text": [
      "1\n",
      "(1, 3.0)\n"
     ]
    }
   ],
   "source": [
    "#Fetching the elements of tuple can be done using the indexes\n",
    "print(v2[0]) #fetches the 0 index i.e. first element of tuple v2\n",
    "print(v2[::2]) #fetches all elements while skipping 1 element each"
   ]
  },
  {
   "cell_type": "code",
   "execution_count": 53,
   "metadata": {
    "ExecuteTime": {
     "end_time": "2020-04-25T13:51:19.629813Z",
     "start_time": "2020-04-25T13:51:19.618220Z"
    }
   },
   "outputs": [
    {
     "name": "stdout",
     "output_type": "stream",
     "text": [
      "(1, 2, 3, 4)\n",
      "<class 'tuple'>\n"
     ]
    }
   ],
   "source": [
    "#Concatenating of tuples is also possible and this creates a new tuple\n",
    "print((1,2)+(3,4))\n",
    "print(type((1,2)+(3,4)))"
   ]
  },
  {
   "cell_type": "code",
   "execution_count": 54,
   "metadata": {
    "ExecuteTime": {
     "end_time": "2020-04-25T13:51:19.788801Z",
     "start_time": "2020-04-25T13:51:19.781103Z"
    }
   },
   "outputs": [
    {
     "data": {
      "text/plain": [
       "(1, 2, 3, 4)"
      ]
     },
     "execution_count": 54,
     "metadata": {},
     "output_type": "execute_result"
    }
   ],
   "source": [
    "#It is important to note that tuple are immutable, which means they cannot be changes\n",
    "v21=(1,2,3,4)\n",
    "v21"
   ]
  },
  {
   "cell_type": "code",
   "execution_count": 55,
   "metadata": {
    "ExecuteTime": {
     "end_time": "2020-04-25T13:51:19.970901Z",
     "start_time": "2020-04-25T13:51:19.954663Z"
    }
   },
   "outputs": [
    {
     "ename": "TypeError",
     "evalue": "'tuple' object does not support item assignment",
     "output_type": "error",
     "traceback": [
      "\u001b[1;31m---------------------------------------------------------------------------\u001b[0m",
      "\u001b[1;31mTypeError\u001b[0m                                 Traceback (most recent call last)",
      "\u001b[1;32m<ipython-input-55-7269d07580f0>\u001b[0m in \u001b[0;36m<module>\u001b[1;34m()\u001b[0m\n\u001b[0;32m      1\u001b[0m \u001b[1;31m#When anyone tries to change an element of tuple they would get the following error\u001b[0m\u001b[1;33m\u001b[0m\u001b[1;33m\u001b[0m\u001b[0m\n\u001b[1;32m----> 2\u001b[1;33m \u001b[0mv21\u001b[0m\u001b[1;33m[\u001b[0m\u001b[1;36m1\u001b[0m\u001b[1;33m]\u001b[0m\u001b[1;33m=\u001b[0m\u001b[1;36m2.0\u001b[0m\u001b[1;33m\u001b[0m\u001b[0m\n\u001b[0m",
      "\u001b[1;31mTypeError\u001b[0m: 'tuple' object does not support item assignment"
     ]
    }
   ],
   "source": [
    "#When anyone tries to change an element of tuple they would get the following error\n",
    "v21[1]=2.0"
   ]
  },
  {
   "cell_type": "markdown",
   "metadata": {},
   "source": [
    "#### Tuple Methods "
   ]
  },
  {
   "cell_type": "markdown",
   "metadata": {},
   "source": [
    "Similar to many other classes, tuples also have methods which can be applied to them. Let us look at some frequently used methods in below examples"
   ]
  },
  {
   "cell_type": "code",
   "execution_count": 56,
   "metadata": {
    "ExecuteTime": {
     "end_time": "2020-04-25T13:51:20.472710Z",
     "start_time": "2020-04-25T13:51:20.464015Z"
    }
   },
   "outputs": [
    {
     "data": {
      "text/plain": [
       "2"
      ]
     },
     "execution_count": 56,
     "metadata": {},
     "output_type": "execute_result"
    }
   ],
   "source": [
    "# Method count is used to see how many occurances of value given in paranthesis are part of the tuple\n",
    "(1,2,'hello',1,2,5,12,'1').count(1) #Please note that this also takes data type into account while searching for elements to count"
   ]
  },
  {
   "cell_type": "code",
   "execution_count": 57,
   "metadata": {
    "ExecuteTime": {
     "end_time": "2020-04-25T13:51:20.695044Z",
     "start_time": "2020-04-25T13:51:20.683437Z"
    }
   },
   "outputs": [
    {
     "data": {
      "text/plain": [
       "0"
      ]
     },
     "execution_count": 57,
     "metadata": {},
     "output_type": "execute_result"
    }
   ],
   "source": [
    "# Method index returns the index of the first occurance of value given in paranthesis\n",
    "(1,2,'hello',1,2,5,12,'1').index(1)"
   ]
  },
  {
   "cell_type": "markdown",
   "metadata": {},
   "source": [
    "### Lists "
   ]
  },
  {
   "cell_type": "markdown",
   "metadata": {},
   "source": [
    "Lists are almost similar to tuples while the key difference being that they are mutable, which means that they can be changed or over-written."
   ]
  },
  {
   "cell_type": "code",
   "execution_count": 58,
   "metadata": {
    "ExecuteTime": {
     "end_time": "2020-04-25T13:51:21.416557Z",
     "start_time": "2020-04-25T13:51:21.404960Z"
    }
   },
   "outputs": [
    {
     "name": "stdout",
     "output_type": "stream",
     "text": [
      "<class 'list'>\n",
      "<class 'list'>\n",
      "<class 'list'>\n",
      "<class 'list'>\n"
     ]
    }
   ],
   "source": [
    "#Declaring a list\n",
    "var=[1,2,3]\n",
    "print(type(var))\n",
    "\n",
    "var=list((1,2,3)) #Notice we are enclosing the information in two brackets instead of one. This is to ensure we do not get error. Try by removing one bracket and see what you will get.\n",
    "print(type(var))\n",
    "\n",
    "var=[2] #This will still be a list unlike tuples\n",
    "print(type(var))\n",
    "\n",
    "var=[2,]\n",
    "print(type(var))"
   ]
  },
  {
   "cell_type": "code",
   "execution_count": 59,
   "metadata": {
    "ExecuteTime": {
     "end_time": "2020-04-25T13:51:21.581793Z",
     "start_time": "2020-04-25T13:51:21.571671Z"
    }
   },
   "outputs": [
    {
     "name": "stdout",
     "output_type": "stream",
     "text": [
      "[1, 2, 3]\n"
     ]
    },
    {
     "data": {
      "text/plain": [
       "list"
      ]
     },
     "execution_count": 59,
     "metadata": {},
     "output_type": "execute_result"
    }
   ],
   "source": [
    "# Lists are typically enclosed in []\n",
    "print([1,2,3])\n",
    "type([1,2,3])"
   ]
  },
  {
   "cell_type": "markdown",
   "metadata": {},
   "source": [
    "Similar to strings, lists can also be sliced using indexing"
   ]
  },
  {
   "cell_type": "code",
   "execution_count": 60,
   "metadata": {
    "ExecuteTime": {
     "end_time": "2020-04-25T13:51:21.982930Z",
     "start_time": "2020-04-25T13:51:21.970431Z"
    }
   },
   "outputs": [
    {
     "name": "stdout",
     "output_type": "stream",
     "text": [
      "[1, 'hi', 3.0]\n",
      "<class 'list'>\n"
     ]
    }
   ],
   "source": [
    "v3=[1,'hi',3.0]\n",
    "print(v3)\n",
    "print(type(v3))"
   ]
  },
  {
   "cell_type": "code",
   "execution_count": 61,
   "metadata": {
    "ExecuteTime": {
     "end_time": "2020-04-25T13:51:22.445416Z",
     "start_time": "2020-04-25T13:51:22.437228Z"
    }
   },
   "outputs": [
    {
     "name": "stdout",
     "output_type": "stream",
     "text": [
      "1\n",
      "(1, 3.0)\n"
     ]
    }
   ],
   "source": [
    "#Fetching the elements of list can be done using the indexes\n",
    "print(v2[0]) #fetches the 0 index i.e. first element of tuple v2\n",
    "print(v2[::2]) #fetches all elements while skipping 1 element each"
   ]
  },
  {
   "cell_type": "code",
   "execution_count": 62,
   "metadata": {
    "ExecuteTime": {
     "end_time": "2020-04-25T13:51:22.591589Z",
     "start_time": "2020-04-25T13:51:22.540190Z"
    }
   },
   "outputs": [
    {
     "name": "stdout",
     "output_type": "stream",
     "text": [
      "[1, 2, 3, 4]\n",
      "<class 'list'>\n"
     ]
    }
   ],
   "source": [
    "#Concatenating of lists is also possible and this creates a new list\n",
    "print([1,2]+[3,4])\n",
    "print(type([1,2]+[3,4]))"
   ]
  },
  {
   "cell_type": "code",
   "execution_count": 63,
   "metadata": {
    "ExecuteTime": {
     "end_time": "2020-04-25T13:51:22.679775Z",
     "start_time": "2020-04-25T13:51:22.656192Z"
    }
   },
   "outputs": [
    {
     "data": {
      "text/plain": [
       "[1, 2, 3, 4]"
      ]
     },
     "execution_count": 63,
     "metadata": {},
     "output_type": "execute_result"
    }
   ],
   "source": [
    "#It is important to note that unlike tuple are mutable, which means they can be changes\n",
    "v21=[1,2,3,4]\n",
    "v21"
   ]
  },
  {
   "cell_type": "code",
   "execution_count": 64,
   "metadata": {
    "ExecuteTime": {
     "end_time": "2020-04-25T13:51:22.782744Z",
     "start_time": "2020-04-25T13:51:22.762137Z"
    }
   },
   "outputs": [
    {
     "data": {
      "text/plain": [
       "[1, 2.0, 3, 4]"
      ]
     },
     "execution_count": 64,
     "metadata": {},
     "output_type": "execute_result"
    }
   ],
   "source": [
    "#When anyone tries to change an element of list they would do so as following\n",
    "v21[1]=2.0\n",
    "v21"
   ]
  },
  {
   "cell_type": "code",
   "execution_count": 65,
   "metadata": {
    "ExecuteTime": {
     "end_time": "2020-04-25T13:51:22.888889Z",
     "start_time": "2020-04-25T13:51:22.880741Z"
    }
   },
   "outputs": [
    {
     "name": "stdout",
     "output_type": "stream",
     "text": [
      "[1, 2.0, 3, 4]\n",
      "[1, 2.0, 3, 4]\n",
      "['First', 2.0, 3, 4]\n",
      "['First', 2.0, 3, 4]\n"
     ]
    }
   ],
   "source": [
    "#When we assign this list to another variable, it does not copy the elements, rather creates a new name for it and will get called upon by either name\n",
    "#This means once we assign it to another variable v22, any change done in v21 will reflect in v22 and vice versa\n",
    "print(v21)\n",
    "v22=v21\n",
    "print(v22)\n",
    "v22[0]=\"First\"\n",
    "print(v21)\n",
    "print(v22)"
   ]
  },
  {
   "cell_type": "code",
   "execution_count": 66,
   "metadata": {
    "ExecuteTime": {
     "end_time": "2020-04-25T13:51:23.007023Z",
     "start_time": "2020-04-25T13:51:22.992825Z"
    }
   },
   "outputs": [
    {
     "name": "stdout",
     "output_type": "stream",
     "text": [
      "['First', 2.0, 3, 4]\n",
      "['First', 2.0, 3, 4]\n",
      "[1, 2.0, 3, 4]\n",
      "['First', 2.0, 3, 4]\n"
     ]
    }
   ],
   "source": [
    "#To copy lists we have to do the following\n",
    "v21=['First', 2.0, 3, 4]\n",
    "v22=v21[:]\n",
    "print(v21)\n",
    "print(v22)\n",
    "v21[0]=1\n",
    "print(v21)\n",
    "print(v22)"
   ]
  },
  {
   "cell_type": "markdown",
   "metadata": {},
   "source": [
    "#### List Methods "
   ]
  },
  {
   "cell_type": "markdown",
   "metadata": {},
   "source": [
    "Similar to many other classes, lists also have methods which can be applied to them. Let us look at some frequently used methods in below examples"
   ]
  },
  {
   "cell_type": "code",
   "execution_count": 67,
   "metadata": {
    "ExecuteTime": {
     "end_time": "2020-04-25T13:51:23.172793Z",
     "start_time": "2020-04-25T13:51:23.164884Z"
    }
   },
   "outputs": [
    {
     "name": "stdout",
     "output_type": "stream",
     "text": [
      "[1, 2, 3]\n",
      "[1, 2, 3, [4, 5]]\n"
     ]
    }
   ],
   "source": [
    "# The append method adds information to an existing list, however note that the append will add a single element to a list\n",
    "l1=[1,2,3]\n",
    "print(l1)\n",
    "l1.append([4,5]) #Here list of [4,5] which is considered as single element is added to the list\n",
    "print(l1)"
   ]
  },
  {
   "cell_type": "code",
   "execution_count": 68,
   "metadata": {
    "ExecuteTime": {
     "end_time": "2020-04-25T13:51:23.292062Z",
     "start_time": "2020-04-25T13:51:23.271130Z"
    }
   },
   "outputs": [
    {
     "name": "stdout",
     "output_type": "stream",
     "text": [
      "[1, 2, 3, [4, 5], 6]\n"
     ]
    },
    {
     "ename": "TypeError",
     "evalue": "append() takes exactly one argument (2 given)",
     "output_type": "error",
     "traceback": [
      "\u001b[1;31m---------------------------------------------------------------------------\u001b[0m",
      "\u001b[1;31mTypeError\u001b[0m                                 Traceback (most recent call last)",
      "\u001b[1;32m<ipython-input-68-1658868b4e32>\u001b[0m in \u001b[0;36m<module>\u001b[1;34m()\u001b[0m\n\u001b[0;32m      2\u001b[0m \u001b[0ml1\u001b[0m\u001b[1;33m.\u001b[0m\u001b[0mappend\u001b[0m\u001b[1;33m(\u001b[0m\u001b[1;36m6\u001b[0m\u001b[1;33m)\u001b[0m\u001b[1;33m\u001b[0m\u001b[0m\n\u001b[0;32m      3\u001b[0m \u001b[0mprint\u001b[0m\u001b[1;33m(\u001b[0m\u001b[0ml1\u001b[0m\u001b[1;33m)\u001b[0m\u001b[1;33m\u001b[0m\u001b[0m\n\u001b[1;32m----> 4\u001b[1;33m \u001b[0ml1\u001b[0m\u001b[1;33m.\u001b[0m\u001b[0mappend\u001b[0m\u001b[1;33m(\u001b[0m\u001b[1;36m8\u001b[0m\u001b[1;33m,\u001b[0m\u001b[1;36m9\u001b[0m\u001b[1;33m)\u001b[0m\u001b[1;33m\u001b[0m\u001b[0m\n\u001b[0m\u001b[0;32m      5\u001b[0m \u001b[0mprint\u001b[0m\u001b[1;33m(\u001b[0m\u001b[0ml1\u001b[0m\u001b[1;33m)\u001b[0m\u001b[1;33m\u001b[0m\u001b[0m\n",
      "\u001b[1;31mTypeError\u001b[0m: append() takes exactly one argument (2 given)"
     ]
    }
   ],
   "source": [
    "# Individual types can be appened to list, however, multiple types or elements cannot be appeneded to list at once\n",
    "l1.append(6)\n",
    "print(l1)\n",
    "l1.append(8,9)\n",
    "print(l1)"
   ]
  },
  {
   "cell_type": "code",
   "execution_count": 69,
   "metadata": {
    "ExecuteTime": {
     "end_time": "2020-04-25T13:51:23.394963Z",
     "start_time": "2020-04-25T13:51:23.383023Z"
    }
   },
   "outputs": [
    {
     "name": "stdout",
     "output_type": "stream",
     "text": [
      "[1, 2, 3, [4, 5], 6, 8, 9]\n"
     ]
    }
   ],
   "source": [
    "# To add multiple elements into list, there is extend method. Point to note however is that the information to be added should be passed as a list\n",
    "l1.extend([8,9])\n",
    "print(l1)"
   ]
  },
  {
   "cell_type": "code",
   "execution_count": 70,
   "metadata": {
    "ExecuteTime": {
     "end_time": "2020-04-25T13:51:23.538358Z",
     "start_time": "2020-04-25T13:51:23.493536Z"
    }
   },
   "outputs": [
    {
     "data": {
      "text/plain": [
       "4"
      ]
     },
     "execution_count": 70,
     "metadata": {},
     "output_type": "execute_result"
    }
   ],
   "source": [
    "# Method index returns the index of the first occurance of element with the specified value\n",
    "l1.index(6)"
   ]
  },
  {
   "cell_type": "code",
   "execution_count": 71,
   "metadata": {
    "ExecuteTime": {
     "end_time": "2020-04-25T13:51:23.690554Z",
     "start_time": "2020-04-25T13:51:23.619788Z"
    }
   },
   "outputs": [
    {
     "data": {
      "text/plain": [
       "[1, 0, 2, 3, [4, 5], 6, 8, 9]"
      ]
     },
     "execution_count": 71,
     "metadata": {},
     "output_type": "execute_result"
    }
   ],
   "source": [
    "# Method insert adds element at any specified location\n",
    "l1.insert(1,0) #1 is index in which value 0 would be added\n",
    "l1"
   ]
  },
  {
   "cell_type": "code",
   "execution_count": 72,
   "metadata": {
    "ExecuteTime": {
     "end_time": "2020-04-25T13:51:23.794951Z",
     "start_time": "2020-04-25T13:51:23.740836Z"
    }
   },
   "outputs": [
    {
     "data": {
      "text/plain": [
       "[1, 2, 3, [4, 5], 6, 8, 9]"
      ]
     },
     "execution_count": 72,
     "metadata": {},
     "output_type": "execute_result"
    }
   ],
   "source": [
    "# Method pop deletes element at mentioned location\n",
    "l1.pop(1)\n",
    "l1"
   ]
  },
  {
   "cell_type": "code",
   "execution_count": 73,
   "metadata": {
    "ExecuteTime": {
     "end_time": "2020-04-25T13:51:23.884722Z",
     "start_time": "2020-04-25T13:51:23.849144Z"
    }
   },
   "outputs": [
    {
     "data": {
      "text/plain": [
       "[1, 2, 3, [4, 5], 8, 9]"
      ]
     },
     "execution_count": 73,
     "metadata": {},
     "output_type": "execute_result"
    }
   ],
   "source": [
    "# Method remove deletes the first occurance of item with mentioned value\n",
    "l1.remove(6)\n",
    "l1"
   ]
  },
  {
   "cell_type": "code",
   "execution_count": 74,
   "metadata": {
    "ExecuteTime": {
     "end_time": "2020-04-25T13:51:23.984393Z",
     "start_time": "2020-04-25T13:51:23.959970Z"
    }
   },
   "outputs": [
    {
     "data": {
      "text/plain": [
       "[9, 8, [4, 5], 3, 2, 1]"
      ]
     },
     "execution_count": 74,
     "metadata": {},
     "output_type": "execute_result"
    }
   ],
   "source": [
    "# Method reverse reverses the order of the list\n",
    "l1.reverse()\n",
    "l1"
   ]
  },
  {
   "cell_type": "code",
   "execution_count": 75,
   "metadata": {
    "ExecuteTime": {
     "end_time": "2020-04-25T13:51:24.129285Z",
     "start_time": "2020-04-25T13:51:24.078757Z"
    }
   },
   "outputs": [
    {
     "ename": "TypeError",
     "evalue": "'<' not supported between instances of 'list' and 'int'",
     "output_type": "error",
     "traceback": [
      "\u001b[1;31m---------------------------------------------------------------------------\u001b[0m",
      "\u001b[1;31mTypeError\u001b[0m                                 Traceback (most recent call last)",
      "\u001b[1;32m<ipython-input-75-fcebf0479c4f>\u001b[0m in \u001b[0;36m<module>\u001b[1;34m()\u001b[0m\n\u001b[0;32m      1\u001b[0m \u001b[1;31m# Method sort sorts the order of the list, but it is advised to be applied on lists with numeric data types only as multiple data types might throw an error\u001b[0m\u001b[1;33m\u001b[0m\u001b[1;33m\u001b[0m\u001b[0m\n\u001b[1;32m----> 2\u001b[1;33m \u001b[0ml1\u001b[0m\u001b[1;33m.\u001b[0m\u001b[0msort\u001b[0m\u001b[1;33m(\u001b[0m\u001b[1;33m)\u001b[0m\u001b[1;33m\u001b[0m\u001b[0m\n\u001b[0m\u001b[0;32m      3\u001b[0m \u001b[0ml1\u001b[0m\u001b[1;33m\u001b[0m\u001b[0m\n",
      "\u001b[1;31mTypeError\u001b[0m: '<' not supported between instances of 'list' and 'int'"
     ]
    }
   ],
   "source": [
    "# Method sort sorts the order of the list, but it is advised to be applied on lists with numeric data types only as multiple data types might throw an error\n",
    "l1.sort()\n",
    "l1"
   ]
  },
  {
   "cell_type": "code",
   "execution_count": 76,
   "metadata": {
    "ExecuteTime": {
     "end_time": "2020-04-25T13:51:24.246503Z",
     "start_time": "2020-04-25T13:51:24.238809Z"
    }
   },
   "outputs": [
    {
     "data": {
      "text/plain": [
       "[1, 2, 3, 5, 6]"
      ]
     },
     "execution_count": 76,
     "metadata": {},
     "output_type": "execute_result"
    }
   ],
   "source": [
    "ll=[3,5,1,2,6]\n",
    "ll.sort()\n",
    "ll"
   ]
  },
  {
   "cell_type": "markdown",
   "metadata": {},
   "source": [
    "### Dictionaries "
   ]
  },
  {
   "cell_type": "markdown",
   "metadata": {},
   "source": [
    "The dictionary is a collection of key and value pairs. The keys are supposed to be immutable and unique which means they cannot to changed and the values can be either of data types or structures. As an address, the keys are used to find the value part of the collection. The indexing part is not applicable to dictionaries as dictionaries can only be called on by the keys instead of any numbers whatever the key might be."
   ]
  },
  {
   "cell_type": "code",
   "execution_count": 77,
   "metadata": {
    "ExecuteTime": {
     "end_time": "2020-04-25T13:51:24.384778Z",
     "start_time": "2020-04-25T13:51:24.376457Z"
    }
   },
   "outputs": [
    {
     "data": {
      "text/plain": [
       "{'key': 'value'}"
      ]
     },
     "execution_count": 77,
     "metadata": {},
     "output_type": "execute_result"
    }
   ],
   "source": [
    "# Declaring of dictionaries needs two parts, a key which has to be unique and immutable and a value which is to be associated with it\n",
    "{'key':'value'}"
   ]
  },
  {
   "cell_type": "code",
   "execution_count": 78,
   "metadata": {
    "ExecuteTime": {
     "end_time": "2020-04-25T13:51:24.513785Z",
     "start_time": "2020-04-25T13:51:24.491954Z"
    }
   },
   "outputs": [
    {
     "ename": "TypeError",
     "evalue": "unhashable type: 'list'",
     "output_type": "error",
     "traceback": [
      "\u001b[1;31m---------------------------------------------------------------------------\u001b[0m",
      "\u001b[1;31mTypeError\u001b[0m                                 Traceback (most recent call last)",
      "\u001b[1;32m<ipython-input-78-684d17290789>\u001b[0m in \u001b[0;36m<module>\u001b[1;34m()\u001b[0m\n\u001b[0;32m      1\u001b[0m \u001b[1;31m# Values can be any data type and can be both immutable and mutable, but it is advisable that keys are either string or integer\u001b[0m\u001b[1;33m\u001b[0m\u001b[1;33m\u001b[0m\u001b[0m\n\u001b[1;32m----> 2\u001b[1;33m \u001b[1;33m{\u001b[0m\u001b[1;33m[\u001b[0m\u001b[1;34m'a'\u001b[0m\u001b[1;33m]\u001b[0m\u001b[1;33m:\u001b[0m\u001b[1;34m'value'\u001b[0m\u001b[1;33m}\u001b[0m \u001b[1;31m# We get an error here as list is used as key\u001b[0m\u001b[1;33m\u001b[0m\u001b[0m\n\u001b[0m",
      "\u001b[1;31mTypeError\u001b[0m: unhashable type: 'list'"
     ]
    }
   ],
   "source": [
    "# Values can be any data type and can be both immutable and mutable, but it is advisable that keys are either string or integer\n",
    "{['a']:'value'} # We get an error here as list is used as key"
   ]
  },
  {
   "cell_type": "code",
   "execution_count": 79,
   "metadata": {
    "ExecuteTime": {
     "end_time": "2020-04-25T13:51:24.635846Z",
     "start_time": "2020-04-25T13:51:24.618924Z"
    }
   },
   "outputs": [
    {
     "name": "stdout",
     "output_type": "stream",
     "text": [
      "{1.0: 'Value'}\n"
     ]
    },
    {
     "data": {
      "text/plain": [
       "dict"
      ]
     },
     "execution_count": 79,
     "metadata": {},
     "output_type": "execute_result"
    }
   ],
   "source": [
    "# Even though integer and strings are advisable for creating keys, float type can also be used\n",
    "print({1.0:'Value'})\n",
    "type({1.0:'Value'})"
   ]
  },
  {
   "cell_type": "code",
   "execution_count": 80,
   "metadata": {
    "ExecuteTime": {
     "end_time": "2020-04-25T13:51:24.779589Z",
     "start_time": "2020-04-25T13:51:24.741251Z"
    }
   },
   "outputs": [
    {
     "data": {
      "text/plain": [
       "{1: 2}"
      ]
     },
     "execution_count": 80,
     "metadata": {},
     "output_type": "execute_result"
    }
   ],
   "source": [
    "# When trying to declare dictionary (dict), with same key values, the key takes the latest value without any error. So users have to be careful about it\n",
    "{1:1,1:2}"
   ]
  },
  {
   "cell_type": "code",
   "execution_count": 81,
   "metadata": {
    "ExecuteTime": {
     "end_time": "2020-04-25T13:51:24.892420Z",
     "start_time": "2020-04-25T13:51:24.865763Z"
    }
   },
   "outputs": [
    {
     "name": "stdout",
     "output_type": "stream",
     "text": [
      "{1: 1, '2': 'two', 3.0: [1.0, '2', 3]}\n"
     ]
    }
   ],
   "source": [
    "#However, the values can be anything and can be duplicates too\n",
    "print({1:1,\"2\":\"two\",3.0:[1.0,\"2\",3]})"
   ]
  },
  {
   "cell_type": "code",
   "execution_count": 82,
   "metadata": {
    "ExecuteTime": {
     "end_time": "2020-04-25T13:51:25.006320Z",
     "start_time": "2020-04-25T13:51:24.989477Z"
    }
   },
   "outputs": [
    {
     "data": {
      "text/plain": [
       "{0: {'First': [1.0, 2.0]}, 1: ['hobby', {2: ('Complex', 'Values')}]}"
      ]
     },
     "execution_count": 82,
     "metadata": {},
     "output_type": "execute_result"
    }
   ],
   "source": [
    "# We can even have value as another dictionary itself. For people who are familier with JSONs, it works will be like similar structure\n",
    "d={0:{\"First\":[1.0,2.0]},1:[\"hobby\",{2:(\"Complex\",'Values')}]}\n",
    "d"
   ]
  },
  {
   "cell_type": "code",
   "execution_count": 83,
   "metadata": {
    "ExecuteTime": {
     "end_time": "2020-04-25T13:51:25.122137Z",
     "start_time": "2020-04-25T13:51:25.110184Z"
    }
   },
   "outputs": [
    {
     "name": "stdout",
     "output_type": "stream",
     "text": [
      "{'info_0': {'First': [1.0, 2.0]}, 'info_1': ['hobby', {2: ('Complex', 'Values')}]}\n"
     ]
    },
    {
     "data": {
      "text/plain": [
       "{'First': [1.0, 2.0]}"
      ]
     },
     "execution_count": 83,
     "metadata": {},
     "output_type": "execute_result"
    }
   ],
   "source": [
    "# Similar to others, we can also extract information out of dictionary, but the indexing does not work here. Here, we have to extract them by the key names\n",
    "d={'info_0':{\"First\":[1.0,2.0]},'info_1':[\"hobby\",{2:(\"Complex\",'Values')}]}\n",
    "print(d)\n",
    "d['info_0']"
   ]
  },
  {
   "cell_type": "code",
   "execution_count": 84,
   "metadata": {
    "ExecuteTime": {
     "end_time": "2020-04-25T13:51:25.256603Z",
     "start_time": "2020-04-25T13:51:25.218748Z"
    }
   },
   "outputs": [
    {
     "ename": "KeyError",
     "evalue": "0",
     "output_type": "error",
     "traceback": [
      "\u001b[1;31m---------------------------------------------------------------------------\u001b[0m",
      "\u001b[1;31mKeyError\u001b[0m                                  Traceback (most recent call last)",
      "\u001b[1;32m<ipython-input-84-587d9db3a38f>\u001b[0m in \u001b[0;36m<module>\u001b[1;34m()\u001b[0m\n\u001b[0;32m      1\u001b[0m \u001b[1;31m# If tried to extract using index style approach, you will get key error, which means python is not able to find the key 0 in your dictionary\u001b[0m\u001b[1;33m\u001b[0m\u001b[1;33m\u001b[0m\u001b[0m\n\u001b[1;32m----> 2\u001b[1;33m \u001b[0md\u001b[0m\u001b[1;33m[\u001b[0m\u001b[1;36m0\u001b[0m\u001b[1;33m]\u001b[0m\u001b[1;33m\u001b[0m\u001b[0m\n\u001b[0m",
      "\u001b[1;31mKeyError\u001b[0m: 0"
     ]
    }
   ],
   "source": [
    "# If tried to extract using index style approach, you will get key error, which means python is not able to find the key 0 in your dictionary\n",
    "d[0]"
   ]
  },
  {
   "cell_type": "code",
   "execution_count": 85,
   "metadata": {
    "ExecuteTime": {
     "end_time": "2020-04-25T13:51:25.374817Z",
     "start_time": "2020-04-25T13:51:25.364696Z"
    }
   },
   "outputs": [
    {
     "name": "stdout",
     "output_type": "stream",
     "text": [
      "{'info_0': {'First': [1.0, 2.0]}, 'info_1': ['hobby', {2: ('Complex', 'Values')}]}\n",
      "['hobby', {2: ('Complex', 'Values')}]\n",
      "{2: ('Complex', 'Values')}\n",
      "('Complex', 'Values')\n",
      "Complex\n"
     ]
    }
   ],
   "source": [
    "#If you want to fetch \"complex\" from dict, here is how you do it\n",
    "print(d)\n",
    "print(d[\"info_1\"]) # Using key 'info_1' to extract value related to the key\n",
    "print(d[\"info_1\"][1]) # Using indexing to fetch the second element in the list\n",
    "print(d[\"info_1\"][1][2]) # Using key 2 to extract value related to the key\n",
    "print(d[\"info_1\"][1][2][0]) # Using indexing to fetch the first element in the tuple"
   ]
  },
  {
   "cell_type": "markdown",
   "metadata": {},
   "source": [
    "#### Dictionary methods "
   ]
  },
  {
   "cell_type": "code",
   "execution_count": 86,
   "metadata": {
    "ExecuteTime": {
     "end_time": "2020-04-25T13:51:27.852407Z",
     "start_time": "2020-04-25T13:51:27.839728Z"
    }
   },
   "outputs": [
    {
     "name": "stdout",
     "output_type": "stream",
     "text": [
      "dict_keys(['info_0', 'info_1'])\n"
     ]
    },
    {
     "data": {
      "text/plain": [
       "dict_keys"
      ]
     },
     "execution_count": 86,
     "metadata": {},
     "output_type": "execute_result"
    }
   ],
   "source": [
    "# Keys method fetches all the keys in dict in dict_keys type\n",
    "print(d.keys())\n",
    "type(d.keys())"
   ]
  },
  {
   "cell_type": "code",
   "execution_count": 87,
   "metadata": {
    "ExecuteTime": {
     "end_time": "2020-04-25T13:51:28.121886Z",
     "start_time": "2020-04-25T13:51:28.110178Z"
    }
   },
   "outputs": [
    {
     "name": "stdout",
     "output_type": "stream",
     "text": [
      "dict_values([{'First': [1.0, 2.0]}, ['hobby', {2: ('Complex', 'Values')}]])\n"
     ]
    },
    {
     "data": {
      "text/plain": [
       "dict_values"
      ]
     },
     "execution_count": 87,
     "metadata": {},
     "output_type": "execute_result"
    }
   ],
   "source": [
    "# values method fetches all the values in dict in dict_values type\n",
    "print(d.values())\n",
    "type(d.values())"
   ]
  },
  {
   "cell_type": "code",
   "execution_count": 88,
   "metadata": {
    "ExecuteTime": {
     "end_time": "2020-04-25T13:51:28.364346Z",
     "start_time": "2020-04-25T13:51:28.352458Z"
    }
   },
   "outputs": [
    {
     "name": "stdout",
     "output_type": "stream",
     "text": [
      "0\n"
     ]
    },
    {
     "data": {
      "text/plain": [
       "{1: '1'}"
      ]
     },
     "execution_count": 88,
     "metadata": {},
     "output_type": "execute_result"
    }
   ],
   "source": [
    "# Pop methods removes the key value pair associated with the key specified and returns the value part\n",
    "d1={0:'0',1:'1'}\n",
    "print(d1.pop(0))\n",
    "d1"
   ]
  },
  {
   "cell_type": "code",
   "execution_count": 89,
   "metadata": {
    "ExecuteTime": {
     "end_time": "2020-04-25T13:51:28.533122Z",
     "start_time": "2020-04-25T13:51:28.521507Z"
    }
   },
   "outputs": [
    {
     "data": {
      "text/plain": [
       "{0: '0', 1: '1', 2: '2'}"
      ]
     },
     "execution_count": 89,
     "metadata": {},
     "output_type": "execute_result"
    }
   ],
   "source": [
    "# update method adds new key value pairs to an existing dict\n",
    "d1={0:'0',1:'1'}\n",
    "d1.update({2:'2'})\n",
    "d1"
   ]
  },
  {
   "cell_type": "markdown",
   "metadata": {},
   "source": [
    "### Sets "
   ]
  },
  {
   "cell_type": "markdown",
   "metadata": {},
   "source": [
    "The sets are unique unordered collection of information. This means that for sets there is no particular order and all elements in it are unique."
   ]
  },
  {
   "cell_type": "code",
   "execution_count": 90,
   "metadata": {
    "ExecuteTime": {
     "end_time": "2020-04-25T13:51:29.048662Z",
     "start_time": "2020-04-25T13:51:29.036210Z"
    }
   },
   "outputs": [
    {
     "data": {
      "text/plain": [
       "{1, 2, 3, 4}"
      ]
     },
     "execution_count": 90,
     "metadata": {},
     "output_type": "execute_result"
    }
   ],
   "source": [
    "# Sets also like dictionaries are declared with curly braces or with a keywork set\n",
    "set((1,2,3,4,1,2,3,4))"
   ]
  },
  {
   "cell_type": "markdown",
   "metadata": {},
   "source": [
    "Note how only the unique values are identified and are made part of the set in the above example"
   ]
  },
  {
   "cell_type": "code",
   "execution_count": 91,
   "metadata": {
    "ExecuteTime": {
     "end_time": "2020-04-25T13:51:29.410147Z",
     "start_time": "2020-04-25T13:51:29.390451Z"
    }
   },
   "outputs": [
    {
     "ename": "TypeError",
     "evalue": "unhashable type: 'list'",
     "output_type": "error",
     "traceback": [
      "\u001b[1;31m---------------------------------------------------------------------------\u001b[0m",
      "\u001b[1;31mTypeError\u001b[0m                                 Traceback (most recent call last)",
      "\u001b[1;32m<ipython-input-91-fdebdfe99208>\u001b[0m in \u001b[0;36m<module>\u001b[1;34m()\u001b[0m\n\u001b[0;32m      1\u001b[0m \u001b[1;31m# Sets does not take in all sorts or values as given below\u001b[0m\u001b[1;33m\u001b[0m\u001b[1;33m\u001b[0m\u001b[0m\n\u001b[1;32m----> 2\u001b[1;33m \u001b[1;33m{\u001b[0m\u001b[1;36m1\u001b[0m\u001b[1;33m,\u001b[0m\u001b[1;34m'2'\u001b[0m\u001b[1;33m,\u001b[0m\u001b[1;33m[\u001b[0m\u001b[1;34m'val1'\u001b[0m\u001b[1;33m,\u001b[0m\u001b[1;34m'val2'\u001b[0m\u001b[1;33m]\u001b[0m\u001b[1;33m,\u001b[0m\u001b[1;33m{\u001b[0m\u001b[1;34m\"k\"\u001b[0m\u001b[1;33m:\u001b[0m\u001b[1;34m'o'\u001b[0m\u001b[1;33m}\u001b[0m\u001b[1;33m}\u001b[0m\u001b[1;33m\u001b[0m\u001b[0m\n\u001b[0m",
      "\u001b[1;31mTypeError\u001b[0m: unhashable type: 'list'"
     ]
    }
   ],
   "source": [
    "# Sets does not take in all sorts or values as given below\n",
    "{1,'2',['val1','val2'],{\"k\":'o'}}"
   ]
  },
  {
   "cell_type": "code",
   "execution_count": 92,
   "metadata": {
    "ExecuteTime": {
     "end_time": "2020-04-25T13:51:29.589584Z",
     "start_time": "2020-04-25T13:51:29.563820Z"
    }
   },
   "outputs": [
    {
     "data": {
      "text/plain": [
       "{0, 1.5, 'two'}"
      ]
     },
     "execution_count": 92,
     "metadata": {},
     "output_type": "execute_result"
    }
   ],
   "source": [
    "# It is advisable to have either of int, float, or strings as below\n",
    "{0,1.5,'two'}"
   ]
  },
  {
   "cell_type": "code",
   "execution_count": 93,
   "metadata": {
    "ExecuteTime": {
     "end_time": "2020-04-25T13:51:29.855923Z",
     "start_time": "2020-04-25T13:51:29.843409Z"
    }
   },
   "outputs": [
    {
     "data": {
      "text/plain": [
       "{1, 2}"
      ]
     },
     "execution_count": 93,
     "metadata": {},
     "output_type": "execute_result"
    }
   ],
   "source": [
    "# Sets can be see which elements exist in only one set when compared to another using subtraction operator as following\n",
    "{1,2,3,4} - {3,4}"
   ]
  },
  {
   "cell_type": "markdown",
   "metadata": {},
   "source": [
    "#### Set methods "
   ]
  },
  {
   "cell_type": "markdown",
   "metadata": {},
   "source": [
    "Here, we will see some of the useful set methods which are useful"
   ]
  },
  {
   "cell_type": "code",
   "execution_count": 94,
   "metadata": {
    "ExecuteTime": {
     "end_time": "2020-04-25T13:51:30.349339Z",
     "start_time": "2020-04-25T13:51:30.338022Z"
    }
   },
   "outputs": [
    {
     "data": {
      "text/plain": [
       "{3, 4}"
      ]
     },
     "execution_count": 94,
     "metadata": {},
     "output_type": "execute_result"
    }
   ],
   "source": [
    "# The first method in intersection. It works in same way that intersection in venn diagrams would work. It extracts common info in two sets\n",
    "{1,2,3,4}.intersection({3,4,5,6})"
   ]
  },
  {
   "cell_type": "code",
   "execution_count": 95,
   "metadata": {
    "ExecuteTime": {
     "end_time": "2020-04-25T13:51:30.505140Z",
     "start_time": "2020-04-25T13:51:30.495037Z"
    }
   },
   "outputs": [
    {
     "data": {
      "text/plain": [
       "{1, 2, 3, 4, 5, 6}"
      ]
     },
     "execution_count": 95,
     "metadata": {},
     "output_type": "execute_result"
    }
   ],
   "source": [
    "# The second method in union. It works in same way that union in venn diagrams would work. It extracts all info in two sets\n",
    "{1,2,3,4}.union({3,4,5,6})"
   ]
  },
  {
   "cell_type": "code",
   "execution_count": 96,
   "metadata": {
    "ExecuteTime": {
     "end_time": "2020-04-25T13:51:30.627088Z",
     "start_time": "2020-04-25T13:51:30.614507Z"
    }
   },
   "outputs": [
    {
     "data": {
      "text/plain": [
       "{1, 2, 3, 4, 5}"
      ]
     },
     "execution_count": 96,
     "metadata": {},
     "output_type": "execute_result"
    }
   ],
   "source": [
    "# The method add adds another element into the set\n",
    "s1={1,2,3,4}\n",
    "s1.add(5)\n",
    "s1"
   ]
  },
  {
   "cell_type": "code",
   "execution_count": 97,
   "metadata": {
    "ExecuteTime": {
     "end_time": "2020-04-25T13:51:31.329452Z",
     "start_time": "2020-04-25T13:51:31.315830Z"
    }
   },
   "outputs": [
    {
     "data": {
      "text/plain": [
       "{1, 2, 3, 4, 5, 6, 7, 8}"
      ]
     },
     "execution_count": 97,
     "metadata": {},
     "output_type": "execute_result"
    }
   ],
   "source": [
    "# The method update adds mutiple elements into the set\n",
    "s1={1,2,3,4}\n",
    "s1.update([5,6,7,8])\n",
    "s1"
   ]
  },
  {
   "cell_type": "code",
   "execution_count": 98,
   "metadata": {
    "ExecuteTime": {
     "end_time": "2020-04-25T13:51:31.534219Z",
     "start_time": "2020-04-25T13:51:31.521367Z"
    }
   },
   "outputs": [
    {
     "data": {
      "text/plain": [
       "{1, 2, 3}"
      ]
     },
     "execution_count": 98,
     "metadata": {},
     "output_type": "execute_result"
    }
   ],
   "source": [
    "# The method remove removes another element into the set\n",
    "s1={1,2,3,4}\n",
    "s1.remove(4)\n",
    "s1"
   ]
  },
  {
   "cell_type": "code",
   "execution_count": 99,
   "metadata": {
    "ExecuteTime": {
     "end_time": "2020-04-25T13:51:31.789729Z",
     "start_time": "2020-04-25T13:51:31.778033Z"
    }
   },
   "outputs": [
    {
     "data": {
      "text/plain": [
       "{2, 3, 4}"
      ]
     },
     "execution_count": 99,
     "metadata": {},
     "output_type": "execute_result"
    }
   ],
   "source": [
    "# The method pop removes the one item\n",
    "s1={1,2,3,4}\n",
    "s1.pop() # sets are unordered, so when using the pop method you will not know which item that gets removed\n",
    "s1"
   ]
  },
  {
   "cell_type": "code",
   "execution_count": 100,
   "metadata": {
    "ExecuteTime": {
     "end_time": "2020-04-25T13:51:31.958447Z",
     "start_time": "2020-04-25T13:51:31.948806Z"
    }
   },
   "outputs": [
    {
     "data": {
      "text/plain": [
       "True"
      ]
     },
     "execution_count": 100,
     "metadata": {},
     "output_type": "execute_result"
    }
   ],
   "source": [
    "# The issubset method tells if one set is a subset of the other\n",
    "{3,4}.issubset({1,2,3,4})"
   ]
  },
  {
   "cell_type": "code",
   "execution_count": 101,
   "metadata": {
    "ExecuteTime": {
     "end_time": "2020-04-25T13:51:32.155455Z",
     "start_time": "2020-04-25T13:51:32.147942Z"
    }
   },
   "outputs": [
    {
     "data": {
      "text/plain": [
       "True"
      ]
     },
     "execution_count": 101,
     "metadata": {},
     "output_type": "execute_result"
    }
   ],
   "source": [
    "# The issuperset method tells if one set is a superset of the other\n",
    "{1,2,3,4}.issuperset({3,4})"
   ]
  },
  {
   "cell_type": "markdown",
   "metadata": {},
   "source": [
    "## Conditional statements and loops "
   ]
  },
  {
   "cell_type": "markdown",
   "metadata": {},
   "source": [
    "### Conditional Statements "
   ]
  },
  {
   "cell_type": "markdown",
   "metadata": {},
   "source": [
    "In any logical flow there exists, like a typical flow diagram or most of the programs there will always be a branching done based on some kind of logic. This most likely happens because the behavior of us humans is also like such. We always have some kind of logical reasoning behind anything we do. For example, people choose one job over another because it pays more salary or has better working environment. These are called conditions and such conditions are also very useful in coding languages like python. Let us look at what these conditional statements are and how to use them"
   ]
  },
  {
   "cell_type": "markdown",
   "metadata": {},
   "source": [
    "#### General comparision operators"
   ]
  },
  {
   "cell_type": "markdown",
   "metadata": {},
   "source": [
    "The general comparision operators are mostly used to check for a certain condition. These are often done by using inequality and equality check operators. We can look at few of them below"
   ]
  },
  {
   "cell_type": "code",
   "execution_count": 102,
   "metadata": {
    "ExecuteTime": {
     "end_time": "2020-04-25T13:51:33.432073Z",
     "start_time": "2020-04-25T13:51:33.424038Z"
    }
   },
   "outputs": [
    {
     "data": {
      "text/plain": [
       "True"
      ]
     },
     "execution_count": 102,
     "metadata": {},
     "output_type": "execute_result"
    }
   ],
   "source": [
    "# We use the following syntax to check if the variable b is greater than 10 or not. The result is a boolean value\n",
    "b=12\n",
    "b>10"
   ]
  },
  {
   "cell_type": "code",
   "execution_count": 103,
   "metadata": {
    "ExecuteTime": {
     "end_time": "2020-04-25T13:51:33.671982Z",
     "start_time": "2020-04-25T13:51:33.659847Z"
    }
   },
   "outputs": [
    {
     "data": {
      "text/plain": [
       "False"
      ]
     },
     "execution_count": 103,
     "metadata": {},
     "output_type": "execute_result"
    }
   ],
   "source": [
    "# for checking if variable b is less than 4 we can use the following\n",
    "b < 4"
   ]
  },
  {
   "cell_type": "code",
   "execution_count": 104,
   "metadata": {
    "ExecuteTime": {
     "end_time": "2020-04-25T13:51:33.912574Z",
     "start_time": "2020-04-25T13:51:33.904640Z"
    }
   },
   "outputs": [
    {
     "name": "stdout",
     "output_type": "stream",
     "text": [
      "True\n",
      "True\n"
     ]
    }
   ],
   "source": [
    "# to check if b is greater/lesser than or equal to 12, we use the following\n",
    "print(b>=12)\n",
    "print(b<=12)"
   ]
  },
  {
   "cell_type": "code",
   "execution_count": 105,
   "metadata": {
    "ExecuteTime": {
     "end_time": "2020-04-25T13:51:34.140188Z",
     "start_time": "2020-04-25T13:51:34.131072Z"
    }
   },
   "outputs": [
    {
     "name": "stdout",
     "output_type": "stream",
     "text": [
      "False\n",
      "True\n"
     ]
    }
   ],
   "source": [
    "# To check if values are same we do not use = as that is for assigning values, hence we use == to check for same value\n",
    "print(b==11)\n",
    "print(b==12)"
   ]
  },
  {
   "cell_type": "markdown",
   "metadata": {},
   "source": [
    "A condition can also have subconditions. What this means is a certain thing needs to be done only if two or more criteria are met, or another scenario is if any of said multiple conditions are met some thing should happen. In the above two conditions we use \"AND\" and \"OR\" conditions respectively. Let us have a look at them below"
   ]
  },
  {
   "cell_type": "code",
   "execution_count": 106,
   "metadata": {
    "ExecuteTime": {
     "end_time": "2020-04-25T13:51:34.526467Z",
     "start_time": "2020-04-25T13:51:34.518500Z"
    }
   },
   "outputs": [
    {
     "name": "stdout",
     "output_type": "stream",
     "text": [
      "True\n"
     ]
    }
   ],
   "source": [
    "# check for condition if variable v1 is greater than 10 and less than 20\n",
    "v1=12  #This value will throw True as 12 is greater than 10 and less than 20\n",
    "print(v1>10 and v1<20)"
   ]
  },
  {
   "cell_type": "code",
   "execution_count": 107,
   "metadata": {
    "ExecuteTime": {
     "end_time": "2020-04-25T13:51:34.800401Z",
     "start_time": "2020-04-25T13:51:34.723013Z"
    }
   },
   "outputs": [
    {
     "name": "stdout",
     "output_type": "stream",
     "text": [
      "False\n"
     ]
    }
   ],
   "source": [
    "# check for condition if variable v1 is greater than 10 and less than 20\n",
    "v1=9  #This value will throw False as 9 is not greater than 10\n",
    "print(v1>10 and v1<20)"
   ]
  },
  {
   "cell_type": "code",
   "execution_count": 108,
   "metadata": {
    "ExecuteTime": {
     "end_time": "2020-04-25T13:51:34.942302Z",
     "start_time": "2020-04-25T13:51:34.934059Z"
    }
   },
   "outputs": [
    {
     "name": "stdout",
     "output_type": "stream",
     "text": [
      "False\n"
     ]
    }
   ],
   "source": [
    "# check for condition if variable v1 is less than 10 or greater than 20\n",
    "v1=12  #This value will throw False as 12 is neither greater than 20 nor less than 10\n",
    "print(v1<10 or v1>20)"
   ]
  },
  {
   "cell_type": "code",
   "execution_count": 109,
   "metadata": {
    "ExecuteTime": {
     "end_time": "2020-04-25T13:51:35.162180Z",
     "start_time": "2020-04-25T13:51:35.155274Z"
    }
   },
   "outputs": [
    {
     "name": "stdout",
     "output_type": "stream",
     "text": [
      "True\n"
     ]
    }
   ],
   "source": [
    "# check for condition if variable v1 is less than 10 or greater than 20\n",
    "v1=22  #This value will throw True as 22 is greater than 20\n",
    "print(v1<10 or v1>20)"
   ]
  },
  {
   "cell_type": "markdown",
   "metadata": {},
   "source": [
    "#### If statement"
   ]
  },
  {
   "cell_type": "markdown",
   "metadata": {},
   "source": [
    "If statement is a conditional block statement that is used in most if not all programming languages. In python the syntax for the if statement goes as following:<br><hr>\n",
    "if (condition):<br> &emsp;\n",
    "    Code to execute if condition is true <br><hr>\n",
    "    What happens here is that only when the condition satisfied will the code inside the if block will be executed. If condition fails, then the code will simply ignore whatever is present in if block"
   ]
  },
  {
   "cell_type": "code",
   "execution_count": 110,
   "metadata": {
    "ExecuteTime": {
     "end_time": "2020-04-25T13:51:35.775491Z",
     "start_time": "2020-04-25T13:51:35.767238Z"
    }
   },
   "outputs": [
    {
     "name": "stdout",
     "output_type": "stream",
     "text": [
      "Condition satisfied!\n",
      "Code continues........\n"
     ]
    }
   ],
   "source": [
    "# Here is a simple working example of a simpe if statement\n",
    "b=10\n",
    "if b>0:\n",
    "    print('Condition satisfied!') #The code comes into this block as condition satisfies\n",
    "print('Code continues........') # The codes comes to this line of code as this is outside of if block"
   ]
  },
  {
   "cell_type": "code",
   "execution_count": 111,
   "metadata": {
    "ExecuteTime": {
     "end_time": "2020-04-25T13:51:35.997553Z",
     "start_time": "2020-04-25T13:51:35.985961Z"
    }
   },
   "outputs": [
    {
     "name": "stdout",
     "output_type": "stream",
     "text": [
      "Code continues........\n"
     ]
    }
   ],
   "source": [
    "if b>10:\n",
    "    print('Condition satisfied!') #The code does not come into this block as condition is not satisfied\n",
    "print('Code continues........') # The codes comes to this line of code as this is outside of if block"
   ]
  },
  {
   "cell_type": "markdown",
   "metadata": {},
   "source": [
    "#### If else statement"
   ]
  },
  {
   "cell_type": "markdown",
   "metadata": {},
   "source": [
    "If else statement can be said as an improvement over the above if condition. What if condition says is that only when some condition is satisfied will some code be run. If else statement has two blocks namely if block and else block. When condition is satisfied, just like in that of if statement, code inside if block gets executed. But, in case the condition is not satisfied, the code in else block runs. This is the major difference between these two statements.<hr>The syntax for if else statement is as follows:<br>if (condition):<br> &emsp;\n",
    "    Code to execute if condition is true <br>else:<br> &emsp;\n",
    "    Code to execute if condition is false <br><hr>"
   ]
  },
  {
   "cell_type": "code",
   "execution_count": 112,
   "metadata": {
    "ExecuteTime": {
     "end_time": "2020-04-25T13:51:36.572110Z",
     "start_time": "2020-04-25T13:51:36.564224Z"
    }
   },
   "outputs": [
    {
     "name": "stdout",
     "output_type": "stream",
     "text": [
      "Condition satisfied!\n",
      "Code continues........\n"
     ]
    }
   ],
   "source": [
    "# Here is a simple working example of a simpe if else statement\n",
    "b=10\n",
    "if b>0:\n",
    "    print('Condition satisfied!') #The code comes into this block if condition satisfies\n",
    "else:\n",
    "    print('Condition is not satisfied') #The code comes into this block if condition is not satisfied\n",
    "print('Code continues........') # The codes comes to this line of code as this is outside of if block"
   ]
  },
  {
   "cell_type": "code",
   "execution_count": 113,
   "metadata": {
    "ExecuteTime": {
     "end_time": "2020-04-25T13:51:36.778243Z",
     "start_time": "2020-04-25T13:51:36.770328Z"
    }
   },
   "outputs": [
    {
     "name": "stdout",
     "output_type": "stream",
     "text": [
      "Condition is not satisfied\n",
      "Code continues........\n"
     ]
    }
   ],
   "source": [
    "if b>10:\n",
    "    print('Condition satisfied!') #The code comes into this block if condition satisfies\n",
    "else:\n",
    "    print('Condition is not satisfied') #The code comes into this block if condition is not satisfied\n",
    "print('Code continues........') # The codes comes to this line of code as this is outside of if block"
   ]
  },
  {
   "cell_type": "markdown",
   "metadata": {},
   "source": [
    "#### elif statement "
   ]
  },
  {
   "cell_type": "markdown",
   "metadata": {},
   "source": [
    "Elif else statement can be said as an improvement over the above if else condition. If else statement has two blocks namely if block and else block. When condition is satisfied, just like in that of if statement, code inside if block gets executed. But, in case the condition is not satisfied, the code in else block runs. But when someone wants to check for multiple exclusive conditions (i.e. not checking them at one time) this is where an elif statement is used. This creates additional block for everytime it is called upon and the code inside these blocks get executed only if the condition in elif statement is true\n",
    "\n",
    "\n",
    "<hr>The syntax for elif staement is as follows:<br>if (condition1):<br> &emsp;\n",
    "    Code to execute if condition1 is true <br>   \n",
    "    elif (condition2):<br> &emsp;\n",
    "    Code to execute if condition2 is true <br>\n",
    "        else:<br> &emsp;\n",
    "    Code to execute if condition is false <br><hr>"
   ]
  },
  {
   "cell_type": "code",
   "execution_count": 114,
   "metadata": {
    "ExecuteTime": {
     "end_time": "2020-04-25T13:51:37.405895Z",
     "start_time": "2020-04-25T13:51:37.397572Z"
    }
   },
   "outputs": [
    {
     "name": "stdout",
     "output_type": "stream",
     "text": [
      "Condition1 satisfied!\n",
      "Code continues........\n"
     ]
    }
   ],
   "source": [
    "# Here is a simple working example of a simpe elif statement\n",
    "b=100\n",
    "if b>99:\n",
    "    print('Condition1 satisfied!') #The code comes into this block if condition1 satisfies\n",
    "elif b>50:\n",
    "    print('Condition2 satisfied!') #The code comes into this block if condition2 satisfies\n",
    "else:\n",
    "    print('Condition is not satisfied') #The code comes into this block if conditions are not satisfied\n",
    "print('Code continues........') # The codes comes to this line of code as this is outside of if block"
   ]
  },
  {
   "cell_type": "code",
   "execution_count": 115,
   "metadata": {
    "ExecuteTime": {
     "end_time": "2020-04-25T13:51:37.616477Z",
     "start_time": "2020-04-25T13:51:37.604016Z"
    }
   },
   "outputs": [
    {
     "name": "stdout",
     "output_type": "stream",
     "text": [
      "Condition2 satisfied!\n",
      "Code continues........\n"
     ]
    }
   ],
   "source": [
    "# Here is a simple working example of a simpe elif statement\n",
    "b=90\n",
    "if b>99:\n",
    "    print('Condition1 satisfied!') #The code comes into this block if condition1 satisfies\n",
    "elif b>50:\n",
    "    print('Condition2 satisfied!') #The code comes into this block if condition2 satisfies\n",
    "else:\n",
    "    print('Condition is not satisfied') #The code comes into this block if conditions are not satisfied\n",
    "print('Code continues........') # The codes comes to this line of code as this is outside of if block"
   ]
  },
  {
   "cell_type": "code",
   "execution_count": 116,
   "metadata": {
    "ExecuteTime": {
     "end_time": "2020-04-25T13:51:37.821337Z",
     "start_time": "2020-04-25T13:51:37.810134Z"
    }
   },
   "outputs": [
    {
     "name": "stdout",
     "output_type": "stream",
     "text": [
      "Condition is not satisfied\n",
      "Code continues........\n"
     ]
    }
   ],
   "source": [
    "# Here is a simple working example of a simpe elif statement\n",
    "b=30\n",
    "if b>99:\n",
    "    print('Condition1 satisfied!') #The code comes into this block if condition1 satisfies\n",
    "elif b>50:\n",
    "    print('Condition2 satisfied!') #The code comes into this block if condition2 satisfies\n",
    "else:\n",
    "    print('Condition is not satisfied') #The code comes into this block if conditions are not satisfied\n",
    "print('Code continues........') # The codes comes to this line of code as this is outside of if block"
   ]
  },
  {
   "cell_type": "markdown",
   "metadata": {},
   "source": [
    "### Loops in python "
   ]
  },
  {
   "cell_type": "markdown",
   "metadata": {},
   "source": [
    "There might be cases in programing where we might want to continuously do the same operation over and over until certain criteria is met or certain operation is done after some number of times. These are achieved by using loops. We have multiple loops in python and let us have a look at what they are and how to use them"
   ]
  },
  {
   "cell_type": "markdown",
   "metadata": {},
   "source": [
    "#### For loop "
   ]
  },
  {
   "cell_type": "markdown",
   "metadata": {},
   "source": [
    "One of the most utilized loop in python (and probably in history of coding!) is for loop. In this loop we tell the python to do a set of operations while setting the number of times or what it should loop through to accomplish said operations. \n",
    "The syntax of for loop is as follows:<hr>\n",
    "for iterator in list/tuple:<br>\n",
    "&emsp; code to be executed #We can even utilize iterator which holds value in every iteration of the loop\n",
    "\n",
    "<hr>Let us look at some examples to better understand the For loops"
   ]
  },
  {
   "cell_type": "code",
   "execution_count": 117,
   "metadata": {
    "ExecuteTime": {
     "end_time": "2020-04-25T13:51:38.835268Z",
     "start_time": "2020-04-25T13:51:38.829918Z"
    }
   },
   "outputs": [
    {
     "name": "stdout",
     "output_type": "stream",
     "text": [
      "0\n",
      "1\n",
      "2\n",
      "3\n",
      "4\n",
      "5\n"
     ]
    }
   ],
   "source": [
    "# Here let us loop through a list starting from 0 to 5 and we will be printing through iterator to better understand how we can use them\n",
    "for i in [0,1,2,3,4,5]: # i here is iterator which will be looped through every iteration\n",
    "    print(i) # Printing iterator i in every iteration of the loop"
   ]
  },
  {
   "cell_type": "code",
   "execution_count": 118,
   "metadata": {
    "ExecuteTime": {
     "end_time": "2020-04-25T13:51:39.040416Z",
     "start_time": "2020-04-25T13:51:39.030978Z"
    }
   },
   "outputs": [
    {
     "name": "stdout",
     "output_type": "stream",
     "text": [
      "1\n",
      "2\n",
      "hi\n",
      "you\n",
      "data\n",
      "science\n",
      "1.0\n",
      "5\n"
     ]
    }
   ],
   "source": [
    "# Here let us loop through a list of string values and we will be printing through iterator to better understand how we can use them\n",
    "for i in ['1','2','hi','you','data','science',1.0,5]: # i here is iterator which will be looped through every iteration\n",
    "    print(i) # Printing iterator i in every iteration of the loop"
   ]
  },
  {
   "cell_type": "code",
   "execution_count": 119,
   "metadata": {
    "ExecuteTime": {
     "end_time": "2020-04-25T13:51:39.229803Z",
     "start_time": "2020-04-25T13:51:39.222247Z"
    }
   },
   "outputs": [
    {
     "name": "stdout",
     "output_type": "stream",
     "text": [
      "0\n",
      "1\n",
      "4\n",
      "9\n",
      "16\n",
      "25\n"
     ]
    }
   ],
   "source": [
    "# Let us say, we want to print numbers from above loop except that they should be squares of them instead of just the numbers themselves\n",
    "for i in [0,1,2,3,4,5]: # i here is iterator which will be looped through every iteration\n",
    "    print(i*i) # Using iterator i, printing i squared in every iteration of the loop"
   ]
  },
  {
   "cell_type": "code",
   "execution_count": 120,
   "metadata": {
    "ExecuteTime": {
     "end_time": "2020-04-25T13:51:39.461877Z",
     "start_time": "2020-04-25T13:51:39.448460Z"
    }
   },
   "outputs": [
    {
     "name": "stdout",
     "output_type": "stream",
     "text": [
      "0\n",
      "1\n",
      "4\n",
      "9\n",
      "16\n",
      "25\n"
     ]
    },
    {
     "data": {
      "text/plain": [
       "[0, 1, 4, 9, 16, 25]"
      ]
     },
     "execution_count": 120,
     "metadata": {},
     "output_type": "execute_result"
    }
   ],
   "source": [
    "# Let us say, we want to print numbers from above loop and store them in a list. We can do so by using following code\n",
    "l1=[] #Initializing an empty list\n",
    "for i in [0,1,2,3,4,5]: # i here is iterator which will be looped through every iteration\n",
    "    print(i*i) # Using iterator i, printing i squared in every iteration of the loop\n",
    "    l1.append(i*i) # Using iterator i, appending i squared in every iteration of the loop to list l1\n",
    "l1 #Printing list l1 after the loop"
   ]
  },
  {
   "cell_type": "code",
   "execution_count": 121,
   "metadata": {
    "ExecuteTime": {
     "end_time": "2020-04-25T13:51:39.676772Z",
     "start_time": "2020-04-25T13:51:39.668346Z"
    }
   },
   "outputs": [
    {
     "name": "stdout",
     "output_type": "stream",
     "text": [
      "range(0, 5)\n",
      "<class 'range'>\n"
     ]
    }
   ],
   "source": [
    "# Instead of using a static list let us now try to use range. Before using it in loops, we have to understand how range works first\n",
    "\n",
    "print(range(5)) #Range creates a series of numbers from 0 to number mentioned (excludes mentioned number), sort of like a list\n",
    "print(type(range(5))) #The type however is range"
   ]
  },
  {
   "cell_type": "code",
   "execution_count": 122,
   "metadata": {
    "ExecuteTime": {
     "end_time": "2020-04-25T13:51:39.869314Z",
     "start_time": "2020-04-25T13:51:39.857423Z"
    }
   },
   "outputs": [
    {
     "name": "stdout",
     "output_type": "stream",
     "text": [
      "0\n",
      "1\n",
      "2\n",
      "3\n",
      "4\n"
     ]
    }
   ],
   "source": [
    "# Let us try to use range in a loop now\n",
    "for i in range(5):\n",
    "    print(i)\n",
    "# This works in the same was as using [0,1,2,3,4] in the for loop statement"
   ]
  },
  {
   "cell_type": "markdown",
   "metadata": {},
   "source": [
    "#### While loop "
   ]
  },
  {
   "cell_type": "markdown",
   "metadata": {},
   "source": [
    "While loop is another well known loop. Here, the loop continue as long as the specified condition is met. This is used when the number of times the code should run is not certain. The syntax for the while loop is as follows:<hr>\n",
    "initiating variable<br>\n",
    "while condition:<br>\n",
    "&emsp; code to run per iteration<br>\n",
    "&emsp; conditonal incrementor #increases initiated variable according to need <hr>Let us look at some examples to understand while loop better"
   ]
  },
  {
   "cell_type": "code",
   "execution_count": 123,
   "metadata": {
    "ExecuteTime": {
     "end_time": "2020-04-25T13:51:41.228797Z",
     "start_time": "2020-04-25T13:51:41.216979Z"
    }
   },
   "outputs": [
    {
     "name": "stdout",
     "output_type": "stream",
     "text": [
      "6\n",
      "7\n",
      "8\n",
      "9\n"
     ]
    }
   ],
   "source": [
    "# Let us initialize variable v1 as 6 and run loop till v1 is less than 10 and increase v1 by 1 for each iteration\n",
    "v1=6 #Initiating variable\n",
    "while v1<10: #starting loop with condition\n",
    "    print(v1) #Printing variable value\n",
    "    v1+=1 # Increasing value of variable v1 by unit for each iteration"
   ]
  },
  {
   "cell_type": "markdown",
   "metadata": {},
   "source": [
    "Similar to for loop the actual applications are endless depending on use case. An interesting point to note maybe is that since the loop runs on incremental check of condition, most of the time while loop is checked with some sort of number instead of string."
   ]
  },
  {
   "cell_type": "markdown",
   "metadata": {},
   "source": [
    "__Note:__ We will not be covering nesting in this notebook as it is out of scope for now. However, you can get multiple online materials if you want to learn more about them "
   ]
  },
  {
   "cell_type": "markdown",
   "metadata": {},
   "source": [
    "#### Useful keywords in loops "
   ]
  },
  {
   "cell_type": "markdown",
   "metadata": {},
   "source": [
    "There are some special keywords which apply to loops and are quite helpfuli in few cases. These are\n",
    "- Pass\n",
    "- Continue\n",
    "- break\n",
    "<br>Let us have a look at them one by one"
   ]
  },
  {
   "cell_type": "code",
   "execution_count": 124,
   "metadata": {
    "ExecuteTime": {
     "end_time": "2020-04-25T13:51:43.505818Z",
     "start_time": "2020-04-25T13:51:43.497287Z"
    }
   },
   "outputs": [
    {
     "name": "stdout",
     "output_type": "stream",
     "text": [
      "90\n",
      "92\n",
      "94\n",
      "96\n",
      "98\n",
      "100\n",
      "102\n"
     ]
    }
   ],
   "source": [
    "# We use keyword break when we want to stop the loop. Let's say irrespective of the main conditions or iterators, we want to come out of loop when certain additinoal condition is met. Let us look at an example\n",
    "for i in range(90,120,2): #Curious about change in inputs given to range function? Go inside range function and click shift+tab to look at documentation to understand what are the inputs for (will work in jupyter notebooks)\n",
    "    print(i)\n",
    "    if i>100:\n",
    "        break # The loop stops when the if condition is satisfied\n",
    "#We can see that the looping has stopped after i=102 as at this point it went inside if block to execute break\n",
    "#From this you have also realised that we can use conditional statements inside loops. Vice versa is also possible"
   ]
  },
  {
   "cell_type": "code",
   "execution_count": 125,
   "metadata": {
    "ExecuteTime": {
     "end_time": "2020-04-25T13:51:43.751500Z",
     "start_time": "2020-04-25T13:51:43.739739Z"
    }
   },
   "outputs": [
    {
     "name": "stdout",
     "output_type": "stream",
     "text": [
      "2\n",
      "4\n",
      "6\n",
      "8\n"
     ]
    }
   ],
   "source": [
    "# Keyword continue will skip remaining part of code for iteration and starts new iteration\n",
    "# The below code works to print even numbers only by checking if they are divisable by 2\n",
    "for i in range(1,10):\n",
    "    if i%2!=0:\n",
    "        continue # Will go to next iteration when code comes inside if block and ignores print statement below which is out of if block and originally should have been printed if continue wasn't there here\n",
    "    print(i)"
   ]
  },
  {
   "cell_type": "code",
   "execution_count": 126,
   "metadata": {
    "ExecuteTime": {
     "end_time": "2020-04-25T13:51:43.938864Z",
     "start_time": "2020-04-25T13:51:43.929548Z"
    }
   },
   "outputs": [
    {
     "name": "stdout",
     "output_type": "stream",
     "text": [
      "1\n",
      "2\n",
      "3\n",
      "4\n",
      "5\n",
      "6\n",
      "7\n",
      "8\n",
      "9\n"
     ]
    }
   ],
   "source": [
    "# Keyword pass does nothing and can be considered as place holder for code. It just let's code pass through its position without doing anything   \n",
    "for i in range(1,10):\n",
    "    if i%2!=0:\n",
    "        pass # notice how this pass is doing nothing when compared to continue\n",
    "    print(i)"
   ]
  },
  {
   "cell_type": "markdown",
   "metadata": {},
   "source": [
    "## Functions in python "
   ]
  },
  {
   "cell_type": "markdown",
   "metadata": {},
   "source": [
    "There are often certain processes that we usually follow in our day-to-day coding, to make the life of coders easier the concept of functions was conceived. We declare a series of operations that need to be done with some given input (not compulsory) to throw out some output (also not compulsory).\n",
    "\n",
    "Even though the name functions might seem new, you have already come across them and used them as methods. Methods that we discussed for a few data structures are nothing but functions that the coders who created said data structures created.\n",
    "\n",
    "Even though there are some standard functions existing in every package and some basic python objects, in many cases custom defined functions are helpful. Let us now look at syntax for functions:\n",
    "<hr>\n",
    "def function_name(input):<br>\n",
    "&emsp;code to finish"
   ]
  },
  {
   "cell_type": "code",
   "execution_count": 127,
   "metadata": {
    "ExecuteTime": {
     "end_time": "2020-04-25T13:51:44.530723Z",
     "start_time": "2020-04-25T13:51:44.522636Z"
    }
   },
   "outputs": [],
   "source": [
    "#Let us write a basic function called adding which adds two numbers\n",
    "def adding(a,b):\n",
    "    print(a+b) #prints addition of two inputs"
   ]
  },
  {
   "cell_type": "markdown",
   "metadata": {},
   "source": [
    "Notice how there is no output from the above piece of code. This is because we have just declared the definition adding and have not called it. Let us now try to call it."
   ]
  },
  {
   "cell_type": "code",
   "execution_count": 128,
   "metadata": {
    "ExecuteTime": {
     "end_time": "2020-04-25T13:51:44.965871Z",
     "start_time": "2020-04-25T13:51:44.953698Z"
    }
   },
   "outputs": [
    {
     "name": "stdout",
     "output_type": "stream",
     "text": [
      "3\n"
     ]
    }
   ],
   "source": [
    "adding(1,2) #The a and b in definition are inputs which we gice while calling function"
   ]
  },
  {
   "cell_type": "code",
   "execution_count": 129,
   "metadata": {
    "ExecuteTime": {
     "end_time": "2020-04-25T13:51:45.229822Z",
     "start_time": "2020-04-25T13:51:45.212798Z"
    }
   },
   "outputs": [
    {
     "ename": "TypeError",
     "evalue": "adding() missing 2 required positional arguments: 'a' and 'b'",
     "output_type": "error",
     "traceback": [
      "\u001b[1;31m---------------------------------------------------------------------------\u001b[0m",
      "\u001b[1;31mTypeError\u001b[0m                                 Traceback (most recent call last)",
      "\u001b[1;32m<ipython-input-129-b9021170daaf>\u001b[0m in \u001b[0;36m<module>\u001b[1;34m()\u001b[0m\n\u001b[0;32m      1\u001b[0m \u001b[1;31m#If we do not enter any input we would get the following\u001b[0m\u001b[1;33m\u001b[0m\u001b[1;33m\u001b[0m\u001b[0m\n\u001b[1;32m----> 2\u001b[1;33m \u001b[0madding\u001b[0m\u001b[1;33m(\u001b[0m\u001b[1;33m)\u001b[0m\u001b[1;33m\u001b[0m\u001b[0m\n\u001b[0m",
      "\u001b[1;31mTypeError\u001b[0m: adding() missing 2 required positional arguments: 'a' and 'b'"
     ]
    }
   ],
   "source": [
    "#If we do not enter any input we would get the following\n",
    "adding()"
   ]
  },
  {
   "cell_type": "code",
   "execution_count": 130,
   "metadata": {
    "ExecuteTime": {
     "end_time": "2020-04-25T13:51:45.402326Z",
     "start_time": "2020-04-25T13:51:45.396463Z"
    }
   },
   "outputs": [],
   "source": [
    "#To handle such cases, one can specify a default value while declaring the function as below\n",
    "def adding(a=0,b=0): #Declaring same function with default values for a and b as 0\n",
    "    print(a+b) #printing addition of two inputs"
   ]
  },
  {
   "cell_type": "code",
   "execution_count": 131,
   "metadata": {
    "ExecuteTime": {
     "end_time": "2020-04-25T13:51:45.608926Z",
     "start_time": "2020-04-25T13:51:45.599789Z"
    }
   },
   "outputs": [
    {
     "name": "stdout",
     "output_type": "stream",
     "text": [
      "0\n"
     ]
    }
   ],
   "source": [
    "adding() #Now we do not get an error because we have default values for a and b as 0"
   ]
  },
  {
   "cell_type": "code",
   "execution_count": 132,
   "metadata": {
    "ExecuteTime": {
     "end_time": "2020-04-25T13:51:45.828300Z",
     "start_time": "2020-04-25T13:51:45.816143Z"
    }
   },
   "outputs": [
    {
     "name": "stdout",
     "output_type": "stream",
     "text": [
      "10\n"
     ]
    }
   ],
   "source": [
    "adding(3,7) #It still works if we give some custom inputs"
   ]
  },
  {
   "cell_type": "code",
   "execution_count": 133,
   "metadata": {
    "ExecuteTime": {
     "end_time": "2020-04-25T13:51:46.036747Z",
     "start_time": "2020-04-25T13:51:46.018398Z"
    }
   },
   "outputs": [
    {
     "ename": "TypeError",
     "evalue": "adding() takes from 0 to 2 positional arguments but 3 were given",
     "output_type": "error",
     "traceback": [
      "\u001b[1;31m---------------------------------------------------------------------------\u001b[0m",
      "\u001b[1;31mTypeError\u001b[0m                                 Traceback (most recent call last)",
      "\u001b[1;32m<ipython-input-133-7e33c94ab5f7>\u001b[0m in \u001b[0;36m<module>\u001b[1;34m()\u001b[0m\n\u001b[0;32m      1\u001b[0m \u001b[1;31m# However if we want to add multiple numbers we have to specify that in definitions, if not we get following\u001b[0m\u001b[1;33m\u001b[0m\u001b[1;33m\u001b[0m\u001b[0m\n\u001b[1;32m----> 2\u001b[1;33m \u001b[0madding\u001b[0m\u001b[1;33m(\u001b[0m\u001b[1;36m1\u001b[0m\u001b[1;33m,\u001b[0m\u001b[1;36m2\u001b[0m\u001b[1;33m,\u001b[0m\u001b[1;36m3\u001b[0m\u001b[1;33m)\u001b[0m\u001b[1;33m\u001b[0m\u001b[0m\n\u001b[0m",
      "\u001b[1;31mTypeError\u001b[0m: adding() takes from 0 to 2 positional arguments but 3 were given"
     ]
    }
   ],
   "source": [
    "# However if we want to add multiple numbers we have to specify that in definitions, if not we get following\n",
    "adding(1,2,3)"
   ]
  },
  {
   "cell_type": "code",
   "execution_count": 134,
   "metadata": {
    "ExecuteTime": {
     "end_time": "2020-04-25T13:51:46.242650Z",
     "start_time": "2020-04-25T13:51:46.230336Z"
    }
   },
   "outputs": [
    {
     "name": "stdout",
     "output_type": "stream",
     "text": [
      "<class 'tuple'>\n"
     ]
    }
   ],
   "source": [
    "# The special syntax *args in function definitions in python is used to pass a variable number of arguments to a function. It is used to pass a non-keyworded, variable-length argument list\n",
    "def adding(*args):\n",
    "    print(type(args)) #print type of arguments\n",
    "\n",
    "adding(1,2,3)"
   ]
  },
  {
   "cell_type": "markdown",
   "metadata": {},
   "source": [
    "We can see that this *args is taken in as tuple type. This allows the users to give any number of inputs as they want to"
   ]
  },
  {
   "cell_type": "code",
   "execution_count": 135,
   "metadata": {
    "ExecuteTime": {
     "end_time": "2020-04-25T13:51:47.145734Z",
     "start_time": "2020-04-25T13:51:47.132803Z"
    }
   },
   "outputs": [
    {
     "name": "stdout",
     "output_type": "stream",
     "text": [
      "15\n"
     ]
    }
   ],
   "source": [
    "def adding(*args):\n",
    "    print(sum(args)) #prints addition of all numbers specified\n",
    "\n",
    "adding(1,2,3,4,5)"
   ]
  },
  {
   "cell_type": "code",
   "execution_count": 136,
   "metadata": {
    "ExecuteTime": {
     "end_time": "2020-04-25T13:51:47.910683Z",
     "start_time": "2020-04-25T13:51:47.898994Z"
    }
   },
   "outputs": [
    {
     "name": "stdout",
     "output_type": "stream",
     "text": [
      "9\n",
      "4\n"
     ]
    }
   ],
   "source": [
    "# Now let us try to return the value from function. The difference between printing and return is that printing \n",
    "# can just display information and we cannot store it in any of the variables. Storing output can be used to compute \n",
    "# anything required. Let us look at an example to see how this can be useful\n",
    "\n",
    "def adding(a,b):\n",
    "    return a+b\n",
    "\n",
    "def subtracting(a,b):\n",
    "    return a-b\n",
    "\n",
    "v1=adding(5,4) #Using function to add 5 and 4 and storing it in variable v1\n",
    "\n",
    "print(v1) #printing v1\n",
    "\n",
    "v2=subtracting(v1,5) #Using function to subtract 5 from value stored in variable v1 and storing it in variable v2\n",
    "\n",
    "print(v2) #printing v2"
   ]
  },
  {
   "cell_type": "markdown",
   "metadata": {},
   "source": [
    "There is another type of parameter type that can be used in declaring functions called **kwargs**, you can explore it on your own if interested as this is out of scope"
   ]
  },
  {
   "cell_type": "code",
   "execution_count": null,
   "metadata": {},
   "outputs": [],
   "source": []
  }
 ],
 "metadata": {
  "kernelspec": {
   "display_name": "Python 3",
   "language": "python",
   "name": "python3"
  },
  "language_info": {
   "codemirror_mode": {
    "name": "ipython",
    "version": 3
   },
   "file_extension": ".py",
   "mimetype": "text/x-python",
   "name": "python",
   "nbconvert_exporter": "python",
   "pygments_lexer": "ipython3",
   "version": "3.6.5"
  },
  "toc": {
   "base_numbering": 1,
   "nav_menu": {},
   "number_sections": false,
   "sideBar": true,
   "skip_h1_title": false,
   "title_cell": "Table of Contents",
   "title_sidebar": "Contents",
   "toc_cell": false,
   "toc_position": {
    "height": "calc(100% - 180px)",
    "left": "10px",
    "top": "150px",
    "width": "273px"
   },
   "toc_section_display": true,
   "toc_window_display": false
  }
 },
 "nbformat": 4,
 "nbformat_minor": 2
}
